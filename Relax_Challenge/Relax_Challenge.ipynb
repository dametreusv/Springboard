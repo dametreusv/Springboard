{
 "cells": [
  {
   "cell_type": "markdown",
   "metadata": {},
   "source": [
    "# Relax Challenge - Discovering Adopted Users\n",
    "A user is considered an adopted user if they log into the product 3 separate days within a 7 day period.  We will investigate what factors can predict if a future user is likely to be an adopted user."
   ]
  },
  {
   "cell_type": "markdown",
   "metadata": {},
   "source": [
    "## Import Dataset"
   ]
  },
  {
   "cell_type": "code",
   "execution_count": 1,
   "metadata": {},
   "outputs": [],
   "source": [
    "#import warnings\n",
    "#warnings.filterwarnings('ignore')\n",
    "\n",
    "%matplotlib inline\n",
    "\n",
    "import pandas as pd\n",
    "import numpy as np\n",
    "import seaborn as sns\n",
    "import matplotlib.pyplot as plt"
   ]
  },
  {
   "cell_type": "code",
   "execution_count": 2,
   "metadata": {
    "scrolled": false
   },
   "outputs": [
    {
     "data": {
      "text/html": [
       "<div>\n",
       "<style scoped>\n",
       "    .dataframe tbody tr th:only-of-type {\n",
       "        vertical-align: middle;\n",
       "    }\n",
       "\n",
       "    .dataframe tbody tr th {\n",
       "        vertical-align: top;\n",
       "    }\n",
       "\n",
       "    .dataframe thead th {\n",
       "        text-align: right;\n",
       "    }\n",
       "</style>\n",
       "<table border=\"1\" class=\"dataframe\">\n",
       "  <thead>\n",
       "    <tr style=\"text-align: right;\">\n",
       "      <th></th>\n",
       "      <th>object_id</th>\n",
       "      <th>creation_time</th>\n",
       "      <th>name</th>\n",
       "      <th>email</th>\n",
       "      <th>creation_source</th>\n",
       "      <th>last_session_creation_time</th>\n",
       "      <th>opted_in_to_mailing_list</th>\n",
       "      <th>enabled_for_marketing_drip</th>\n",
       "      <th>org_id</th>\n",
       "      <th>invited_by_user_id</th>\n",
       "    </tr>\n",
       "  </thead>\n",
       "  <tbody>\n",
       "    <tr>\n",
       "      <td>0</td>\n",
       "      <td>1</td>\n",
       "      <td>2014-04-22 03:53:30</td>\n",
       "      <td>Clausen August</td>\n",
       "      <td>AugustCClausen@yahoo.com</td>\n",
       "      <td>GUEST_INVITE</td>\n",
       "      <td>2014-04-22 03:53:30</td>\n",
       "      <td>1</td>\n",
       "      <td>0</td>\n",
       "      <td>11</td>\n",
       "      <td>10803.0</td>\n",
       "    </tr>\n",
       "    <tr>\n",
       "      <td>1</td>\n",
       "      <td>2</td>\n",
       "      <td>2013-11-15 03:45:04</td>\n",
       "      <td>Poole Matthew</td>\n",
       "      <td>MatthewPoole@gustr.com</td>\n",
       "      <td>ORG_INVITE</td>\n",
       "      <td>2014-03-31 03:45:04</td>\n",
       "      <td>0</td>\n",
       "      <td>0</td>\n",
       "      <td>1</td>\n",
       "      <td>316.0</td>\n",
       "    </tr>\n",
       "    <tr>\n",
       "      <td>2</td>\n",
       "      <td>3</td>\n",
       "      <td>2013-03-19 23:14:52</td>\n",
       "      <td>Bottrill Mitchell</td>\n",
       "      <td>MitchellBottrill@gustr.com</td>\n",
       "      <td>ORG_INVITE</td>\n",
       "      <td>2013-03-19 23:14:52</td>\n",
       "      <td>0</td>\n",
       "      <td>0</td>\n",
       "      <td>94</td>\n",
       "      <td>1525.0</td>\n",
       "    </tr>\n",
       "    <tr>\n",
       "      <td>3</td>\n",
       "      <td>4</td>\n",
       "      <td>2013-05-21 08:09:28</td>\n",
       "      <td>Clausen Nicklas</td>\n",
       "      <td>NicklasSClausen@yahoo.com</td>\n",
       "      <td>GUEST_INVITE</td>\n",
       "      <td>2013-05-22 08:09:28</td>\n",
       "      <td>0</td>\n",
       "      <td>0</td>\n",
       "      <td>1</td>\n",
       "      <td>5151.0</td>\n",
       "    </tr>\n",
       "    <tr>\n",
       "      <td>4</td>\n",
       "      <td>5</td>\n",
       "      <td>2013-01-17 10:14:20</td>\n",
       "      <td>Raw Grace</td>\n",
       "      <td>GraceRaw@yahoo.com</td>\n",
       "      <td>GUEST_INVITE</td>\n",
       "      <td>2013-01-22 10:14:20</td>\n",
       "      <td>0</td>\n",
       "      <td>0</td>\n",
       "      <td>193</td>\n",
       "      <td>5240.0</td>\n",
       "    </tr>\n",
       "  </tbody>\n",
       "</table>\n",
       "</div>"
      ],
      "text/plain": [
       "   object_id       creation_time               name  \\\n",
       "0          1 2014-04-22 03:53:30     Clausen August   \n",
       "1          2 2013-11-15 03:45:04      Poole Matthew   \n",
       "2          3 2013-03-19 23:14:52  Bottrill Mitchell   \n",
       "3          4 2013-05-21 08:09:28    Clausen Nicklas   \n",
       "4          5 2013-01-17 10:14:20          Raw Grace   \n",
       "\n",
       "                        email creation_source last_session_creation_time  \\\n",
       "0    AugustCClausen@yahoo.com    GUEST_INVITE        2014-04-22 03:53:30   \n",
       "1      MatthewPoole@gustr.com      ORG_INVITE        2014-03-31 03:45:04   \n",
       "2  MitchellBottrill@gustr.com      ORG_INVITE        2013-03-19 23:14:52   \n",
       "3   NicklasSClausen@yahoo.com    GUEST_INVITE        2013-05-22 08:09:28   \n",
       "4          GraceRaw@yahoo.com    GUEST_INVITE        2013-01-22 10:14:20   \n",
       "\n",
       "   opted_in_to_mailing_list  enabled_for_marketing_drip  org_id  \\\n",
       "0                         1                           0      11   \n",
       "1                         0                           0       1   \n",
       "2                         0                           0      94   \n",
       "3                         0                           0       1   \n",
       "4                         0                           0     193   \n",
       "\n",
       "   invited_by_user_id  \n",
       "0             10803.0  \n",
       "1               316.0  \n",
       "2              1525.0  \n",
       "3              5151.0  \n",
       "4              5240.0  "
      ]
     },
     "execution_count": 2,
     "metadata": {},
     "output_type": "execute_result"
    }
   ],
   "source": [
    "# Read in user data\n",
    "user = pd.read_csv('takehome_users.csv', parse_dates=['creation_time'], encoding='ISO-8859-1')\n",
    "\n",
    "# Convert timestamp to datetime\n",
    "user.last_session_creation_time = pd.to_datetime(user.last_session_creation_time, unit='s')\n",
    "user.head()"
   ]
  },
  {
   "cell_type": "code",
   "execution_count": 3,
   "metadata": {
    "scrolled": false
   },
   "outputs": [
    {
     "name": "stdout",
     "output_type": "stream",
     "text": [
      "<class 'pandas.core.frame.DataFrame'>\n",
      "RangeIndex: 12000 entries, 0 to 11999\n",
      "Data columns (total 10 columns):\n",
      "object_id                     12000 non-null int64\n",
      "creation_time                 12000 non-null datetime64[ns]\n",
      "name                          12000 non-null object\n",
      "email                         12000 non-null object\n",
      "creation_source               12000 non-null object\n",
      "last_session_creation_time    8823 non-null datetime64[ns]\n",
      "opted_in_to_mailing_list      12000 non-null int64\n",
      "enabled_for_marketing_drip    12000 non-null int64\n",
      "org_id                        12000 non-null int64\n",
      "invited_by_user_id            6417 non-null float64\n",
      "dtypes: datetime64[ns](2), float64(1), int64(4), object(3)\n",
      "memory usage: 937.6+ KB\n"
     ]
    }
   ],
   "source": [
    "user.info()"
   ]
  },
  {
   "cell_type": "code",
   "execution_count": 4,
   "metadata": {},
   "outputs": [
    {
     "data": {
      "text/html": [
       "<div>\n",
       "<style scoped>\n",
       "    .dataframe tbody tr th:only-of-type {\n",
       "        vertical-align: middle;\n",
       "    }\n",
       "\n",
       "    .dataframe tbody tr th {\n",
       "        vertical-align: top;\n",
       "    }\n",
       "\n",
       "    .dataframe thead th {\n",
       "        text-align: right;\n",
       "    }\n",
       "</style>\n",
       "<table border=\"1\" class=\"dataframe\">\n",
       "  <thead>\n",
       "    <tr style=\"text-align: right;\">\n",
       "      <th></th>\n",
       "      <th>time_stamp</th>\n",
       "      <th>user_id</th>\n",
       "      <th>visited</th>\n",
       "    </tr>\n",
       "  </thead>\n",
       "  <tbody>\n",
       "    <tr>\n",
       "      <td>0</td>\n",
       "      <td>2014-04-22 03:53:30</td>\n",
       "      <td>1</td>\n",
       "      <td>1</td>\n",
       "    </tr>\n",
       "    <tr>\n",
       "      <td>1</td>\n",
       "      <td>2013-11-15 03:45:04</td>\n",
       "      <td>2</td>\n",
       "      <td>1</td>\n",
       "    </tr>\n",
       "    <tr>\n",
       "      <td>2</td>\n",
       "      <td>2013-11-29 03:45:04</td>\n",
       "      <td>2</td>\n",
       "      <td>1</td>\n",
       "    </tr>\n",
       "    <tr>\n",
       "      <td>3</td>\n",
       "      <td>2013-12-09 03:45:04</td>\n",
       "      <td>2</td>\n",
       "      <td>1</td>\n",
       "    </tr>\n",
       "    <tr>\n",
       "      <td>4</td>\n",
       "      <td>2013-12-25 03:45:04</td>\n",
       "      <td>2</td>\n",
       "      <td>1</td>\n",
       "    </tr>\n",
       "  </tbody>\n",
       "</table>\n",
       "</div>"
      ],
      "text/plain": [
       "           time_stamp  user_id  visited\n",
       "0 2014-04-22 03:53:30        1        1\n",
       "1 2013-11-15 03:45:04        2        1\n",
       "2 2013-11-29 03:45:04        2        1\n",
       "3 2013-12-09 03:45:04        2        1\n",
       "4 2013-12-25 03:45:04        2        1"
      ]
     },
     "execution_count": 4,
     "metadata": {},
     "output_type": "execute_result"
    }
   ],
   "source": [
    "# Read in engagement data\n",
    "engagement = pd.read_csv('takehome_user_engagement.csv', parse_dates=['time_stamp'])\n",
    "engagement.head()"
   ]
  },
  {
   "cell_type": "code",
   "execution_count": 5,
   "metadata": {},
   "outputs": [
    {
     "name": "stdout",
     "output_type": "stream",
     "text": [
      "<class 'pandas.core.frame.DataFrame'>\n",
      "RangeIndex: 207917 entries, 0 to 207916\n",
      "Data columns (total 3 columns):\n",
      "time_stamp    207917 non-null datetime64[ns]\n",
      "user_id       207917 non-null int64\n",
      "visited       207917 non-null int64\n",
      "dtypes: datetime64[ns](1), int64(2)\n",
      "memory usage: 4.8 MB\n"
     ]
    }
   ],
   "source": [
    "engagement.info()"
   ]
  },
  {
   "cell_type": "markdown",
   "metadata": {},
   "source": [
    "The engagement dataframe gives information on each user's usage and tracks each day that they log into the product.  This will be a primary focus."
   ]
  },
  {
   "cell_type": "markdown",
   "metadata": {},
   "source": [
    "## Wrangle Data\n",
    "In order to predict who can be an adopted user, we first have to identify adopted users (users who have logged in 3 separate days within a 7 day period).  We will first confirm that no user is logged in twice on the same day, then check to see if a user has logged in 3 separate days within a 7 day period.\n",
    "\n",
    "We will then look at the missing data surrounding `last_session_creation_time` and `invited_by_user_id`"
   ]
  },
  {
   "cell_type": "code",
   "execution_count": 6,
   "metadata": {},
   "outputs": [],
   "source": [
    "# Set user index to object_id, change name to user_id to align with engagement df\n",
    "user.set_index('object_id', inplace=True)\n",
    "user.index.name = 'user_id'"
   ]
  },
  {
   "cell_type": "code",
   "execution_count": 7,
   "metadata": {},
   "outputs": [
    {
     "name": "stdout",
     "output_type": "stream",
     "text": [
      "<class 'pandas._libs.tslibs.timestamps.Timestamp'>\n"
     ]
    },
    {
     "data": {
      "text/plain": [
       "user_id  time_stamp         \n",
       "1        2014-04-22 03:53:30    1\n",
       "2        2013-11-15 03:45:04    1\n",
       "         2013-11-29 03:45:04    1\n",
       "         2013-12-09 03:45:04    1\n",
       "         2013-12-25 03:45:04    1\n",
       "Name: visited, dtype: int64"
      ]
     },
     "execution_count": 7,
     "metadata": {},
     "output_type": "execute_result"
    }
   ],
   "source": [
    "print(type(engagement.time_stamp[0]))\n",
    "engagement.groupby(['user_id','time_stamp']).visited.count().head()"
   ]
  },
  {
   "cell_type": "code",
   "execution_count": 8,
   "metadata": {},
   "outputs": [
    {
     "name": "stdout",
     "output_type": "stream",
     "text": [
      "<class 'datetime.date'>\n"
     ]
    },
    {
     "data": {
      "text/plain": [
       "user_id  time_stamp\n",
       "1        2014-04-22    1\n",
       "2        2013-11-15    1\n",
       "         2013-11-29    1\n",
       "         2013-12-09    1\n",
       "         2013-12-25    1\n",
       "Name: visited, dtype: int64"
      ]
     },
     "execution_count": 8,
     "metadata": {},
     "output_type": "execute_result"
    }
   ],
   "source": [
    "# Convert timestamp to datetime\n",
    "engagement['time_stamp'] = engagement.time_stamp.dt.date\n",
    "\n",
    "print(type(engagement.time_stamp[0]))\n",
    "engagement.groupby(['user_id','time_stamp']).visited.count().head()"
   ]
  },
  {
   "cell_type": "code",
   "execution_count": 9,
   "metadata": {},
   "outputs": [],
   "source": [
    "# Confirm no user logged in twice on the same day\n",
    "assert (engagement.groupby(['user_id','time_stamp']).visited.count() == 1).all()"
   ]
  },
  {
   "cell_type": "code",
   "execution_count": 10,
   "metadata": {},
   "outputs": [
    {
     "data": {
      "text/plain": [
       "0    10344\n",
       "1     1656\n",
       "Name: adopted_user, dtype: int64"
      ]
     },
     "execution_count": 10,
     "metadata": {},
     "output_type": "execute_result"
    }
   ],
   "source": [
    "# Create adopted_user column and set to 0 (not adopted)\n",
    "user['adopted_user'] = 0\n",
    "\n",
    "# Sort users by id and day, if user 2 spots away is same user, then all 3 spots is same user on different days\n",
    "engagement.sort_values(['user_id', 'time_stamp'], inplace=True)\n",
    "\n",
    "# Find adopted users, loop to last user minus 2 spots\n",
    "for idx in engagement.index[:-2]:\n",
    "    # Check if user 2 spots away is same user\n",
    "    if engagement.loc[idx, 'user_id'] == engagement.loc[idx+2, 'user_id']:\n",
    "        # Confirm log in is under 7 days\n",
    "        if (engagement.loc[idx+2, 'time_stamp'] - engagement.loc[idx,'time_stamp']).days <= 7:\n",
    "            # Retrieve user_id (same as index in user df)\n",
    "            user_id = engagement.loc[idx, 'user_id']\n",
    "            # Assign 1 to adopted user\n",
    "            user.loc[user_id, 'adopted_user'] = 1\n",
    "            \n",
    "# Count number of adopted users vs. non-adopted users\n",
    "user.adopted_user.value_counts()"
   ]
  },
  {
   "cell_type": "markdown",
   "metadata": {},
   "source": [
    "There are 1,656 adopted users and 10,344 non-adopted users out of 12,000 total users."
   ]
  },
  {
   "cell_type": "code",
   "execution_count": 11,
   "metadata": {},
   "outputs": [
    {
     "data": {
      "text/plain": [
       "0    3177\n",
       "Name: adopted_user, dtype: int64"
      ]
     },
     "execution_count": 11,
     "metadata": {},
     "output_type": "execute_result"
    }
   ],
   "source": [
    "# last_session_creation_time had several null values\n",
    "user[user.last_session_creation_time.isnull()].adopted_user.value_counts()"
   ]
  },
  {
   "cell_type": "markdown",
   "metadata": {},
   "source": [
    "All entries with missing data in `last_session_creation_time` are from users who are non-adopted users.  We'll assume that they logged in once."
   ]
  },
  {
   "cell_type": "code",
   "execution_count": 12,
   "metadata": {},
   "outputs": [],
   "source": [
    "# Create 'invited' column to supplement missing values in 'invited_by_user_id' column\n",
    "user['invited'] = user.invited_by_user_id.apply(lambda x: 0 if np.isnan(x) else 1)"
   ]
  },
  {
   "cell_type": "code",
   "execution_count": 13,
   "metadata": {},
   "outputs": [
    {
     "data": {
      "text/html": [
       "<div>\n",
       "<style scoped>\n",
       "    .dataframe tbody tr th:only-of-type {\n",
       "        vertical-align: middle;\n",
       "    }\n",
       "\n",
       "    .dataframe tbody tr th {\n",
       "        vertical-align: top;\n",
       "    }\n",
       "\n",
       "    .dataframe thead th {\n",
       "        text-align: right;\n",
       "    }\n",
       "</style>\n",
       "<table border=\"1\" class=\"dataframe\">\n",
       "  <thead>\n",
       "    <tr style=\"text-align: right;\">\n",
       "      <th></th>\n",
       "      <th>creation_time</th>\n",
       "      <th>name</th>\n",
       "      <th>email</th>\n",
       "      <th>creation_source</th>\n",
       "      <th>last_session_creation_time</th>\n",
       "      <th>opted_in_to_mailing_list</th>\n",
       "      <th>enabled_for_marketing_drip</th>\n",
       "      <th>org_id</th>\n",
       "      <th>invited_by_user_id</th>\n",
       "      <th>adopted_user</th>\n",
       "      <th>invited</th>\n",
       "    </tr>\n",
       "    <tr>\n",
       "      <th>user_id</th>\n",
       "      <th></th>\n",
       "      <th></th>\n",
       "      <th></th>\n",
       "      <th></th>\n",
       "      <th></th>\n",
       "      <th></th>\n",
       "      <th></th>\n",
       "      <th></th>\n",
       "      <th></th>\n",
       "      <th></th>\n",
       "      <th></th>\n",
       "    </tr>\n",
       "  </thead>\n",
       "  <tbody>\n",
       "    <tr>\n",
       "      <td>1</td>\n",
       "      <td>2014-04-22 03:53:30</td>\n",
       "      <td>Clausen August</td>\n",
       "      <td>AugustCClausen@yahoo.com</td>\n",
       "      <td>GUEST_INVITE</td>\n",
       "      <td>2014-04-22 03:53:30</td>\n",
       "      <td>1</td>\n",
       "      <td>0</td>\n",
       "      <td>11</td>\n",
       "      <td>10803.0</td>\n",
       "      <td>0</td>\n",
       "      <td>1</td>\n",
       "    </tr>\n",
       "    <tr>\n",
       "      <td>2</td>\n",
       "      <td>2013-11-15 03:45:04</td>\n",
       "      <td>Poole Matthew</td>\n",
       "      <td>MatthewPoole@gustr.com</td>\n",
       "      <td>ORG_INVITE</td>\n",
       "      <td>2014-03-31 03:45:04</td>\n",
       "      <td>0</td>\n",
       "      <td>0</td>\n",
       "      <td>1</td>\n",
       "      <td>316.0</td>\n",
       "      <td>1</td>\n",
       "      <td>1</td>\n",
       "    </tr>\n",
       "    <tr>\n",
       "      <td>3</td>\n",
       "      <td>2013-03-19 23:14:52</td>\n",
       "      <td>Bottrill Mitchell</td>\n",
       "      <td>MitchellBottrill@gustr.com</td>\n",
       "      <td>ORG_INVITE</td>\n",
       "      <td>2013-03-19 23:14:52</td>\n",
       "      <td>0</td>\n",
       "      <td>0</td>\n",
       "      <td>94</td>\n",
       "      <td>1525.0</td>\n",
       "      <td>0</td>\n",
       "      <td>1</td>\n",
       "    </tr>\n",
       "    <tr>\n",
       "      <td>4</td>\n",
       "      <td>2013-05-21 08:09:28</td>\n",
       "      <td>Clausen Nicklas</td>\n",
       "      <td>NicklasSClausen@yahoo.com</td>\n",
       "      <td>GUEST_INVITE</td>\n",
       "      <td>2013-05-22 08:09:28</td>\n",
       "      <td>0</td>\n",
       "      <td>0</td>\n",
       "      <td>1</td>\n",
       "      <td>5151.0</td>\n",
       "      <td>0</td>\n",
       "      <td>1</td>\n",
       "    </tr>\n",
       "    <tr>\n",
       "      <td>5</td>\n",
       "      <td>2013-01-17 10:14:20</td>\n",
       "      <td>Raw Grace</td>\n",
       "      <td>GraceRaw@yahoo.com</td>\n",
       "      <td>GUEST_INVITE</td>\n",
       "      <td>2013-01-22 10:14:20</td>\n",
       "      <td>0</td>\n",
       "      <td>0</td>\n",
       "      <td>193</td>\n",
       "      <td>5240.0</td>\n",
       "      <td>0</td>\n",
       "      <td>1</td>\n",
       "    </tr>\n",
       "  </tbody>\n",
       "</table>\n",
       "</div>"
      ],
      "text/plain": [
       "              creation_time               name                       email  \\\n",
       "user_id                                                                      \n",
       "1       2014-04-22 03:53:30     Clausen August    AugustCClausen@yahoo.com   \n",
       "2       2013-11-15 03:45:04      Poole Matthew      MatthewPoole@gustr.com   \n",
       "3       2013-03-19 23:14:52  Bottrill Mitchell  MitchellBottrill@gustr.com   \n",
       "4       2013-05-21 08:09:28    Clausen Nicklas   NicklasSClausen@yahoo.com   \n",
       "5       2013-01-17 10:14:20          Raw Grace          GraceRaw@yahoo.com   \n",
       "\n",
       "        creation_source last_session_creation_time  opted_in_to_mailing_list  \\\n",
       "user_id                                                                        \n",
       "1          GUEST_INVITE        2014-04-22 03:53:30                         1   \n",
       "2            ORG_INVITE        2014-03-31 03:45:04                         0   \n",
       "3            ORG_INVITE        2013-03-19 23:14:52                         0   \n",
       "4          GUEST_INVITE        2013-05-22 08:09:28                         0   \n",
       "5          GUEST_INVITE        2013-01-22 10:14:20                         0   \n",
       "\n",
       "         enabled_for_marketing_drip  org_id  invited_by_user_id  adopted_user  \\\n",
       "user_id                                                                         \n",
       "1                                 0      11             10803.0             0   \n",
       "2                                 0       1               316.0             1   \n",
       "3                                 0      94              1525.0             0   \n",
       "4                                 0       1              5151.0             0   \n",
       "5                                 0     193              5240.0             0   \n",
       "\n",
       "         invited  \n",
       "user_id           \n",
       "1              1  \n",
       "2              1  \n",
       "3              1  \n",
       "4              1  \n",
       "5              1  "
      ]
     },
     "execution_count": 13,
     "metadata": {},
     "output_type": "execute_result"
    }
   ],
   "source": [
    "user.head()"
   ]
  },
  {
   "cell_type": "markdown",
   "metadata": {},
   "source": [
    "## Exploratory Data Analysis"
   ]
  },
  {
   "cell_type": "code",
   "execution_count": 14,
   "metadata": {},
   "outputs": [
    {
     "data": {
      "image/png": "[encoded data removed]",
      "text/plain": [
       "<Figure size 432x288 with 1 Axes>"
      ]
     },
     "metadata": {
      "needs_background": "light"
     },
     "output_type": "display_data"
    },
    {
     "data": {
      "text/plain": [
       "'Adopted users are 13.8% of all users and non-adopted users are 86.2% of all users'"
      ]
     },
     "execution_count": 14,
     "metadata": {},
     "output_type": "execute_result"
    }
   ],
   "source": [
    "# Distribution of Adopted vs Non-Adopted Usersx\n",
    "ax = sns.countplot(x='adopted_user', data=user)\n",
    "ax.set_title('Distribution of Adopted vs Non-Adopted Users')\n",
    "sns.despine(top=True, right=True)\n",
    "plt.show()\n",
    "\n",
    "'Adopted users are {}% of all users and non-adopted users are {}% of all users'.format(\n",
    "    len(user[user.adopted_user == 1])/len(user)*100, len(user[user.adopted_user == 0])/len(user)*100)"
   ]
  },
  {
   "cell_type": "code",
   "execution_count": 15,
   "metadata": {},
   "outputs": [
    {
     "data": {
      "text/html": [
       "<div>\n",
       "<style scoped>\n",
       "    .dataframe tbody tr th:only-of-type {\n",
       "        vertical-align: middle;\n",
       "    }\n",
       "\n",
       "    .dataframe tbody tr th {\n",
       "        vertical-align: top;\n",
       "    }\n",
       "\n",
       "    .dataframe thead th {\n",
       "        text-align: right;\n",
       "    }\n",
       "</style>\n",
       "<table border=\"1\" class=\"dataframe\">\n",
       "  <thead>\n",
       "    <tr style=\"text-align: right;\">\n",
       "      <th></th>\n",
       "      <th>opted_in_to_mailing_list</th>\n",
       "      <th>enabled_for_marketing_drip</th>\n",
       "      <th>org_id</th>\n",
       "      <th>invited_by_user_id</th>\n",
       "      <th>adopted_user</th>\n",
       "      <th>invited</th>\n",
       "    </tr>\n",
       "  </thead>\n",
       "  <tbody>\n",
       "    <tr>\n",
       "      <td>opted_in_to_mailing_list</td>\n",
       "      <td>1.000000</td>\n",
       "      <td>0.483529</td>\n",
       "      <td>0.003432</td>\n",
       "      <td>0.004699</td>\n",
       "      <td>0.008838</td>\n",
       "      <td>0.006934</td>\n",
       "    </tr>\n",
       "    <tr>\n",
       "      <td>enabled_for_marketing_drip</td>\n",
       "      <td>0.483529</td>\n",
       "      <td>1.000000</td>\n",
       "      <td>0.009275</td>\n",
       "      <td>0.003687</td>\n",
       "      <td>0.006578</td>\n",
       "      <td>0.002216</td>\n",
       "    </tr>\n",
       "    <tr>\n",
       "      <td>org_id</td>\n",
       "      <td>0.003432</td>\n",
       "      <td>0.009275</td>\n",
       "      <td>1.000000</td>\n",
       "      <td>-0.057780</td>\n",
       "      <td>0.066995</td>\n",
       "      <td>-0.018442</td>\n",
       "    </tr>\n",
       "    <tr>\n",
       "      <td>invited_by_user_id</td>\n",
       "      <td>0.004699</td>\n",
       "      <td>0.003687</td>\n",
       "      <td>-0.057780</td>\n",
       "      <td>1.000000</td>\n",
       "      <td>0.001185</td>\n",
       "      <td>NaN</td>\n",
       "    </tr>\n",
       "    <tr>\n",
       "      <td>adopted_user</td>\n",
       "      <td>0.008838</td>\n",
       "      <td>0.006578</td>\n",
       "      <td>0.066995</td>\n",
       "      <td>0.001185</td>\n",
       "      <td>1.000000</td>\n",
       "      <td>0.027831</td>\n",
       "    </tr>\n",
       "    <tr>\n",
       "      <td>invited</td>\n",
       "      <td>0.006934</td>\n",
       "      <td>0.002216</td>\n",
       "      <td>-0.018442</td>\n",
       "      <td>NaN</td>\n",
       "      <td>0.027831</td>\n",
       "      <td>1.000000</td>\n",
       "    </tr>\n",
       "  </tbody>\n",
       "</table>\n",
       "</div>"
      ],
      "text/plain": [
       "                            opted_in_to_mailing_list  \\\n",
       "opted_in_to_mailing_list                    1.000000   \n",
       "enabled_for_marketing_drip                  0.483529   \n",
       "org_id                                      0.003432   \n",
       "invited_by_user_id                          0.004699   \n",
       "adopted_user                                0.008838   \n",
       "invited                                     0.006934   \n",
       "\n",
       "                            enabled_for_marketing_drip    org_id  \\\n",
       "opted_in_to_mailing_list                      0.483529  0.003432   \n",
       "enabled_for_marketing_drip                    1.000000  0.009275   \n",
       "org_id                                        0.009275  1.000000   \n",
       "invited_by_user_id                            0.003687 -0.057780   \n",
       "adopted_user                                  0.006578  0.066995   \n",
       "invited                                       0.002216 -0.018442   \n",
       "\n",
       "                            invited_by_user_id  adopted_user   invited  \n",
       "opted_in_to_mailing_list              0.004699      0.008838  0.006934  \n",
       "enabled_for_marketing_drip            0.003687      0.006578  0.002216  \n",
       "org_id                               -0.057780      0.066995 -0.018442  \n",
       "invited_by_user_id                    1.000000      0.001185       NaN  \n",
       "adopted_user                          0.001185      1.000000  0.027831  \n",
       "invited                                    NaN      0.027831  1.000000  "
      ]
     },
     "execution_count": 15,
     "metadata": {},
     "output_type": "execute_result"
    }
   ],
   "source": [
    "user.corr()"
   ]
  },
  {
   "cell_type": "markdown",
   "metadata": {},
   "source": [
    "There's not much correlation between any of the columns above with the exception of `enabled_for_marketing_drip` and `opted_in_to_mailing_list`."
   ]
  },
  {
   "cell_type": "code",
   "execution_count": 16,
   "metadata": {},
   "outputs": [
    {
     "data": {
      "image/png": "[encoded data removed]",
      "text/plain": [
       "<Figure size 1440x720 with 4 Axes>"
      ]
     },
     "metadata": {
      "needs_background": "light"
     },
     "output_type": "display_data"
    }
   ],
   "source": [
    "# look at categorical and datetime columns\n",
    "plt.figure(figsize=(20,10));\n",
    "\n",
    "ax1 = plt.subplot(2,2,1)\n",
    "ax1 = sns.countplot(x=user.last_session_creation_time.dt.year, hue=user.adopted_user, ax=ax1)\n",
    "ax1.set_title('User Adoption by Year of Last Session')\n",
    "\n",
    "ax2 = plt.subplot(2,2,2)\n",
    "ax2 = sns.countplot(x=user.invited, hue=user.adopted_user, ax=ax2)\n",
    "ax2.set_title('User Adoption by Invitation')\n",
    "\n",
    "ax3 = plt.subplot(2,2,3)\n",
    "ax3 = sns.countplot(x='creation_source', hue='adopted_user', data=user, ax=ax3)\n",
    "ax3.set_title('User Adoption by User Creation Source')\n",
    "\n",
    "ax4 = plt.subplot(2,2,4)\n",
    "ax4 = sns.countplot(x=user.creation_time.dt.year, hue=user.adopted_user, ax=ax4)\n",
    "ax4.set_title('User Adoption by Account Creation Year')\n",
    "\n",
    "sns.despine(top=True, right=True)\n",
    "plt.show()"
   ]
  },
  {
   "cell_type": "markdown",
   "metadata": {},
   "source": [
    "There's not very big correlation between many of the factors above with the major exception coming from `last_session_creation_time`, which shows that more adopted users logged in more recently than non-adopted users."
   ]
  },
  {
   "cell_type": "code",
   "execution_count": 17,
   "metadata": {},
   "outputs": [
    {
     "data": {
      "image/png": "[encoded data removed]",
      "text/plain": [
       "<Figure size 720x432 with 1 Axes>"
      ]
     },
     "metadata": {
      "needs_background": "light"
     },
     "output_type": "display_data"
    }
   ],
   "source": [
    "plt.figure(figsize=(10,6))\n",
    "ax = sns.distplot(engagement.groupby('user_id').visited.count(), kde=False)\n",
    "ax.set_yscale('log')\n",
    "sns.despine(top=True, right=True)\n",
    "plt.show()"
   ]
  },
  {
   "cell_type": "markdown",
   "metadata": {},
   "source": [
    "Most users have only logged in 1 time, which would equate to non-adopted users, while a good portion have many log-ins, which would equate to adopted users.  This will be a good feature to look at when it comes to feature engineering."
   ]
  },
  {
   "cell_type": "markdown",
   "metadata": {},
   "source": [
    "## Feature Engineering\n",
    "\n",
    "When it comes to feature engineering, there seems to be 2 things to really stick out:\n",
    "- Number of times visited\n",
    "- Creation date vs last usage date\n",
    "\n",
    "We will use these 2 factors to create new columns (features) for our ML practice.  \n",
    "\n",
    "But first, we need to deal with the users that have a missing value for their last usage date.  We will assume they logged in 1 day only, which is the minimum difference from creation and last usage date (0 days)."
   ]
  },
  {
   "cell_type": "code",
   "execution_count": 18,
   "metadata": {},
   "outputs": [
    {
     "data": {
      "image/png": "[encoded data removed]",
      "text/plain": [
       "<Figure size 720x432 with 1 Axes>"
      ]
     },
     "metadata": {
      "needs_background": "light"
     },
     "output_type": "display_data"
    }
   ],
   "source": [
    "# Create time delta that measures the time a user first logged in vs. last\n",
    "user['time_delta']= user.last_session_creation_time - user.creation_time\n",
    "\n",
    "# Fill in missing time delta\n",
    "user['time_delta'] = user.time_delta.fillna(user.time_delta.min())\n",
    "\n",
    "plt.figure(figsize=(10,6))\n",
    "sns.countplot(x=user.time_delta.dt.days//100, hue=user.adopted_user)\n",
    "sns.despine(top=True, right=True)\n",
    "plt.title('User Adoption by Time Delta per 100 days')\n",
    "plt.show()"
   ]
  },
  {
   "cell_type": "markdown",
   "metadata": {},
   "source": [
    "Almost all non-adopted users have a time delta of under 100 days, there are a small amount of non-adopted users between 100 and 200 days and any user that has a time delta of over 200 days is an adopted user.  There are, however a lot of adopted users that have a time delta of less than 100 days and time delta between 100 and 200 days."
   ]
  },
  {
   "cell_type": "code",
   "execution_count": 19,
   "metadata": {},
   "outputs": [],
   "source": [
    "# Create total number of visits column\n",
    "total_visits = engagement.groupby('user_id').visited.count()\n",
    "total_visits.name = 'total_visits'\n",
    "\n",
    "# Join total number of visits to user dataframe\n",
    "user = user.join(total_visits, on='user_id')\n",
    "\n",
    "# Fill missing total visits to 1 for at least 1 visit\n",
    "user.total_visits.fillna(1, inplace=True)"
   ]
  },
  {
   "cell_type": "markdown",
   "metadata": {},
   "source": [
    "## Machine Learning Modeling\n",
    "\n",
    "We're going to experiment on 3 different classification algorithms to determine which one performs the best.\n",
    "- Logistic Regression (linear)\n",
    "- Support Vector Machine (non-linear)\n",
    "- Random Forest (ensemble)\n",
    "\n",
    "Because there are 1,656 adopted users out of 12,000 (1,656 adopted vs 10,344 non-adopted), we are dealing with an imbalanced classification problem.  F1-Score and Area Under ROC will be used as metrics instead of accuracy score."
   ]
  },
  {
   "cell_type": "code",
   "execution_count": 20,
   "metadata": {},
   "outputs": [],
   "source": [
    "from sklearn.preprocessing import StandardScaler\n",
    "from sklearn.model_selection import train_test_split\n",
    "from sklearn.model_selection import GridSearchCV\n",
    "from sklearn.pipeline import Pipeline\n",
    "from sklearn.linear_model import LogisticRegression\n",
    "from sklearn.svm import SVC\n",
    "from sklearn.ensemble import RandomForestClassifier\n",
    "from sklearn.metrics import f1_score, roc_auc_score"
   ]
  },
  {
   "cell_type": "code",
   "execution_count": 21,
   "metadata": {},
   "outputs": [],
   "source": [
    "# Prepare dataframe to model\n",
    "\n",
    "# Convert cateogorical types\n",
    "user['invited'] = user.invited.astype('category')\n",
    "user['adopted_user'] = user.adopted_user.astype('category')\n",
    "user['opted_in_to_mailing_list'] = user.opted_in_to_mailing_list.astype('category')\n",
    "user['enabled_for_marketing_drip'] = user.enabled_for_marketing_drip.astype('category')\n",
    "\n",
    "# Convert creation time to ordinal datetime\n",
    "from datetime import datetime\n",
    "user['creation_time_ordinal'] = user.creation_time.apply(datetime.toordinal)\n",
    "\n",
    "# Convert time_delta to days\n",
    "user['time_delta_day'] = user.time_delta.dt.days"
   ]
  },
  {
   "cell_type": "code",
   "execution_count": 22,
   "metadata": {},
   "outputs": [],
   "source": [
    "# Extract features and target\n",
    "X = user.drop(['creation_time','name','email','last_session_creation_time',\n",
    "               'invited_by_user_id','adopted_user','time_delta'], axis=1)\n",
    "y = user.adopted_user\n",
    "\n",
    "# Create dummy variables from categorical columns\n",
    "X = pd.get_dummies(X, drop_first=True)  # Convert categorical columns\n",
    "\n",
    "# Train-test-split\n",
    "X_train, X_test, y_train, y_test = train_test_split(X, y, stratify=y, random_state=10)"
   ]
  },
  {
   "cell_type": "code",
   "execution_count": 23,
   "metadata": {},
   "outputs": [],
   "source": [
    "# Create evaluation table\n",
    "index = ['LogisticRegression','SVC','RandomForestClassifier']\n",
    "eval_table = pd.DataFrame(index=index, columns= ['f1_score_train','auc_train','f1_score_test','auc_test'])\n",
    "\n",
    "# Define function for plotting results\n",
    "def compute_result(algorithm, pred_train, pred_test):\n",
    "    \"\"\"compute the performance for both training and test sets\"\"\"\n",
    "    \n",
    "    # Compute performace\n",
    "    f1_train = f1_score(y_train, pred_train)\n",
    "    f1_test = f1_score(y_test, pred_test)\n",
    "    auc_train = roc_auc_score(y_train, pred_train)\n",
    "    auc_test = roc_auc_score(y_test, pred_test)\n",
    "    \n",
    "    # Log the performance\n",
    "    eval_table.loc[algorithm,:] = f1_train, auc_train, f1_test, auc_test"
   ]
  },
  {
   "cell_type": "code",
   "execution_count": 24,
   "metadata": {},
   "outputs": [
    {
     "name": "stdout",
     "output_type": "stream",
     "text": [
      "                               feature  coefficient\n",
      "1                         total_visits     9.851416\n",
      "3                       time_delta_day     5.556038\n",
      "2                creation_time_ordinal     0.338954\n",
      "0                               org_id     0.184048\n",
      "8           opted_in_to_mailing_list_1     0.032066\n",
      "10                           invited_1     0.028366\n",
      "9         enabled_for_marketing_drip_1     0.013917\n",
      "7   creation_source_SIGNUP_GOOGLE_AUTH     0.011976\n",
      "6               creation_source_SIGNUP     0.007863\n",
      "5    creation_source_PERSONAL_PROJECTS    -0.055173\n",
      "4           creation_source_ORG_INVITE    -0.094157\n"
     ]
    },
    {
     "name": "stderr",
     "output_type": "stream",
     "text": [
      "/opt/anaconda3/lib/python3.7/site-packages/sklearn/linear_model/logistic.py:432: FutureWarning: Default solver will be changed to 'lbfgs' in 0.22. Specify a solver to silence this warning.\n",
      "  FutureWarning)\n"
     ]
    }
   ],
   "source": [
    "# Fit default logistic regression model\n",
    "logreg = Pipeline([('scaler', StandardScaler()),('logreg', LogisticRegression())])\n",
    "logreg.fit(X_train, y_train)\n",
    "pred_train = logreg.predict(X_train)\n",
    "pred_test = logreg.predict(X_test)\n",
    "\n",
    "# Show features and their coefficients\n",
    "feature_coef = pd.DataFrame({'feature':X_train.columns, 'coefficient':logreg.named_steps.logreg.coef_[0]})\n",
    "print(feature_coef.sort_values('coefficient',ascending=False))\n",
    "\n",
    "# Record model performance\n",
    "compute_result('LogisticRegression', pred_train, pred_test)"
   ]
  },
  {
   "cell_type": "code",
   "execution_count": 25,
   "metadata": {},
   "outputs": [],
   "source": [
    "# Fit default support vector machine model\n",
    "svc = Pipeline([('scaler', StandardScaler()),('svc', SVC())])\n",
    "svc.fit(X_train, y_train)\n",
    "pred_train = svc.predict(X_train)\n",
    "pred_test = svc.predict(X_test)\n",
    "\n",
    "# Record model performance\n",
    "compute_result('SVC', pred_train, pred_test)"
   ]
  },
  {
   "cell_type": "code",
   "execution_count": 26,
   "metadata": {},
   "outputs": [
    {
     "name": "stdout",
     "output_type": "stream",
     "text": [
      "                               feature  importance\n",
      "1                         total_visits    0.665941\n",
      "3                       time_delta_day    0.269177\n",
      "2                creation_time_ordinal    0.029332\n",
      "0                               org_id    0.021527\n",
      "5    creation_source_PERSONAL_PROJECTS    0.005337\n",
      "8           opted_in_to_mailing_list_1    0.002097\n",
      "7   creation_source_SIGNUP_GOOGLE_AUTH    0.001745\n",
      "4           creation_source_ORG_INVITE    0.001554\n",
      "9         enabled_for_marketing_drip_1    0.001456\n",
      "10                           invited_1    0.001079\n",
      "6               creation_source_SIGNUP    0.000755\n"
     ]
    },
    {
     "name": "stderr",
     "output_type": "stream",
     "text": [
      "/opt/anaconda3/lib/python3.7/site-packages/sklearn/ensemble/forest.py:245: FutureWarning: The default value of n_estimators will change from 10 in version 0.20 to 100 in 0.22.\n",
      "  \"10 in version 0.20 to 100 in 0.22.\", FutureWarning)\n"
     ]
    }
   ],
   "source": [
    "# Fit default random forest model\n",
    "\n",
    "# Set class_weight to 'balanced' to adjust for the imbalanced classes\n",
    "rfc = Pipeline([('scaler', StandardScaler()),('rfc', RandomForestClassifier(class_weight='balanced'))]) \n",
    "rfc.fit(X_train, y_train)\n",
    "pred_train = rfc.predict(X_train)\n",
    "pred_test = rfc.predict(X_test)\n",
    "\n",
    "# Print feature importance\n",
    "feature_rank = pd.DataFrame({'feature': X_train.columns, 'importance': rfc.named_steps.rfc.feature_importances_})\n",
    "print(feature_rank.sort_values(by='importance',ascending=False))\n",
    "\n",
    "# Record model performance\n",
    "compute_result('RandomForestClassifier', pred_train, pred_test)"
   ]
  },
  {
   "cell_type": "code",
   "execution_count": 27,
   "metadata": {},
   "outputs": [
    {
     "data": {
      "text/html": [
       "<div>\n",
       "<style scoped>\n",
       "    .dataframe tbody tr th:only-of-type {\n",
       "        vertical-align: middle;\n",
       "    }\n",
       "\n",
       "    .dataframe tbody tr th {\n",
       "        vertical-align: top;\n",
       "    }\n",
       "\n",
       "    .dataframe thead th {\n",
       "        text-align: right;\n",
       "    }\n",
       "</style>\n",
       "<table border=\"1\" class=\"dataframe\">\n",
       "  <thead>\n",
       "    <tr style=\"text-align: right;\">\n",
       "      <th></th>\n",
       "      <th>f1_score_train</th>\n",
       "      <th>auc_train</th>\n",
       "      <th>f1_score_test</th>\n",
       "      <th>auc_test</th>\n",
       "    </tr>\n",
       "  </thead>\n",
       "  <tbody>\n",
       "    <tr>\n",
       "      <td>LogisticRegression</td>\n",
       "      <td>0.913997</td>\n",
       "      <td>0.933428</td>\n",
       "      <td>0.913486</td>\n",
       "      <td>0.931061</td>\n",
       "    </tr>\n",
       "    <tr>\n",
       "      <td>SVC</td>\n",
       "      <td>0.906049</td>\n",
       "      <td>0.922994</td>\n",
       "      <td>0.902975</td>\n",
       "      <td>0.919564</td>\n",
       "    </tr>\n",
       "    <tr>\n",
       "      <td>RandomForestClassifier</td>\n",
       "      <td>0.994743</td>\n",
       "      <td>0.995105</td>\n",
       "      <td>0.933498</td>\n",
       "      <td>0.954056</td>\n",
       "    </tr>\n",
       "  </tbody>\n",
       "</table>\n",
       "</div>"
      ],
      "text/plain": [
       "                       f1_score_train auc_train f1_score_test  auc_test\n",
       "LogisticRegression           0.913997  0.933428      0.913486  0.931061\n",
       "SVC                          0.906049  0.922994      0.902975  0.919564\n",
       "RandomForestClassifier       0.994743  0.995105      0.933498  0.954056"
      ]
     },
     "execution_count": 27,
     "metadata": {},
     "output_type": "execute_result"
    }
   ],
   "source": [
    "# Show results of each model's performance\n",
    "eval_table"
   ]
  },
  {
   "cell_type": "markdown",
   "metadata": {},
   "source": [
    "## Optimizing Random Forest through Hypertuning\n",
    "By default, the RandomForestClassifier has the best f1 score and AUC score, and the ability to balance the imbalanced classification helped in its scoring.  We will now hypertune the model to improve its score."
   ]
  },
  {
   "cell_type": "code",
   "execution_count": 28,
   "metadata": {},
   "outputs": [
    {
     "name": "stdout",
     "output_type": "stream",
     "text": [
      "Best parameters: {'rfc__max_features': 'sqrt', 'rfc__n_estimators': 87}\n",
      "Corresponding f1 score: 0.94621710700124\n"
     ]
    }
   ],
   "source": [
    "# Use gridsearchcv to optimize the RandomForestClassifier\n",
    "# The default parameters seem to overfit to the training set\n",
    "\n",
    "parameters = {'rfc__n_estimators': np.arange(10,90,7), 'rfc__max_features':['auto','sqrt','log2']}\n",
    "\n",
    "# Scoring criteria: f1_score gives better sensitivity with a wider range of scoring distribution for imbalanced\n",
    "rfc_cv = GridSearchCV(rfc, parameters, scoring='f1', cv=5)\n",
    "rfc_cv.fit(X_train, y_train)\n",
    "print('Best parameters:', rfc_cv.best_params_)\n",
    "print('Corresponding f1 score:', rfc_cv.best_score_)"
   ]
  },
  {
   "cell_type": "code",
   "execution_count": 29,
   "metadata": {},
   "outputs": [],
   "source": [
    "# Hypertuned RandomForestClassifier\n",
    "rfc = Pipeline([('scaler', StandardScaler()),\n",
    "                ('rfc', RandomForestClassifier(n_estimators=80, \n",
    "                                               max_features='log2', \n",
    "                                               class_weight='balanced'))])\n",
    "rfc.fit(X_train, y_train)\n",
    "pred_train = rfc.predict(X_train)\n",
    "pred_test = rfc.predict(X_test)\n",
    "\n",
    "# Record model performance\n",
    "compute_result(\"RandomForestClassifier\", pred_train, pred_test)"
   ]
  },
  {
   "cell_type": "code",
   "execution_count": 30,
   "metadata": {},
   "outputs": [
    {
     "name": "stdout",
     "output_type": "stream",
     "text": [
      "                               feature  importance\n",
      "1                         total_visits    0.559257\n",
      "3                       time_delta_day    0.383756\n",
      "2                creation_time_ordinal    0.028110\n",
      "0                               org_id    0.017484\n",
      "5    creation_source_PERSONAL_PROJECTS    0.002653\n",
      "8           opted_in_to_mailing_list_1    0.001851\n",
      "4           creation_source_ORG_INVITE    0.001712\n",
      "9         enabled_for_marketing_drip_1    0.001436\n",
      "10                           invited_1    0.001369\n",
      "7   creation_source_SIGNUP_GOOGLE_AUTH    0.001299\n",
      "6               creation_source_SIGNUP    0.001074\n"
     ]
    },
    {
     "data": {
      "text/html": [
       "<div>\n",
       "<style scoped>\n",
       "    .dataframe tbody tr th:only-of-type {\n",
       "        vertical-align: middle;\n",
       "    }\n",
       "\n",
       "    .dataframe tbody tr th {\n",
       "        vertical-align: top;\n",
       "    }\n",
       "\n",
       "    .dataframe thead th {\n",
       "        text-align: right;\n",
       "    }\n",
       "</style>\n",
       "<table border=\"1\" class=\"dataframe\">\n",
       "  <thead>\n",
       "    <tr style=\"text-align: right;\">\n",
       "      <th></th>\n",
       "      <th>RandomForestClassifier</th>\n",
       "    </tr>\n",
       "  </thead>\n",
       "  <tbody>\n",
       "    <tr>\n",
       "      <td>f1_score_train</td>\n",
       "      <td>1</td>\n",
       "    </tr>\n",
       "    <tr>\n",
       "      <td>auc_train</td>\n",
       "      <td>1</td>\n",
       "    </tr>\n",
       "    <tr>\n",
       "      <td>f1_score_test</td>\n",
       "      <td>0.94621</td>\n",
       "    </tr>\n",
       "    <tr>\n",
       "      <td>auc_test</td>\n",
       "      <td>0.964104</td>\n",
       "    </tr>\n",
       "  </tbody>\n",
       "</table>\n",
       "</div>"
      ],
      "text/plain": [
       "               RandomForestClassifier\n",
       "f1_score_train                      1\n",
       "auc_train                           1\n",
       "f1_score_test                 0.94621\n",
       "auc_test                     0.964104"
      ]
     },
     "execution_count": 30,
     "metadata": {},
     "output_type": "execute_result"
    }
   ],
   "source": [
    "# Feature importance ranking of hypertuned RandomForestClassifier \n",
    "feature_rank = pd.DataFrame({'feature': X_train.columns, 'importance': rfc.named_steps.rfc.feature_importances_})\n",
    "print(feature_rank.sort_values(by='importance',ascending=False))\n",
    "\n",
    "# Final result\n",
    "pd.DataFrame(eval_table.loc['RandomForestClassifier'])"
   ]
  },
  {
   "cell_type": "markdown",
   "metadata": {},
   "source": [
    "The hypertuned RandomForestClassifier gives us the best results in classifying whether a new user will be an adopted user with the most important features being `total_visits` and `time_delta_day`."
   ]
  }
 ],
 "metadata": {
  "kernelspec": {
   "display_name": "Python 3",
   "language": "python",
   "name": "python3"
  },
  "language_info": {
   "codemirror_mode": {
    "name": "ipython",
    "version": 3
   },
   "file_extension": ".py",
   "mimetype": "text/x-python",
   "name": "python",
   "nbconvert_exporter": "python",
   "pygments_lexer": "ipython3",
   "version": "3.7.4"
  }
 },
 "nbformat": 4,
 "nbformat_minor": 2
}
