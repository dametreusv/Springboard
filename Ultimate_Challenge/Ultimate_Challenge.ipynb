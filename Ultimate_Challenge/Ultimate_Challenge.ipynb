{
 "cells": [
  {
   "cell_type": "markdown",
   "metadata": {},
   "source": [
    "# Ultimate Challenge - Logistics & Rideshares\n",
    "\n",
    "More information of the raw data and the problems of interest can be found [here](https://github.com/dametreusv/Springboard_Data_Science/blob/master/Ultimate_Challenge/ultimate_data_science_challenge.pdf).\n"
   ]
  },
  {
   "cell_type": "code",
   "execution_count": 1,
   "metadata": {},
   "outputs": [],
   "source": [
    "import warnings\n",
    "warnings.filterwarnings('ignore')\n",
    "\n",
    "%matplotlib inline\n",
    "\n",
    "import json\n",
    "import numpy as np\n",
    "import pandas as pd\n",
    "import seaborn as sns\n",
    "import matplotlib.pyplot as plt"
   ]
  },
  {
   "cell_type": "markdown",
   "metadata": {},
   "source": [
    "# Part 1. Exploratory Data Analysis\n",
    "\n",
    "The attached logins.json file contains (simulated) timestamps of user logins in a particular geographic location. We will aggregate these login counts based on 15-minute time intervals, and visualize and describe the resulting time series of login counts in ways that best characterize the underlying patterns of the demand. We will report/illustrate important features of the demand, such as daily cycles. We will also report any data quality issues."
   ]
  },
  {
   "cell_type": "markdown",
   "metadata": {},
   "source": [
    "## Import and Wrangle Data"
   ]
  },
  {
   "cell_type": "code",
   "execution_count": 2,
   "metadata": {},
   "outputs": [],
   "source": [
    "# Read in data\n",
    "with open('logins.json') as f:\n",
    "    data = json.load(f)\n",
    "\n",
    "login = pd.DataFrame(data)"
   ]
  },
  {
   "cell_type": "code",
   "execution_count": 3,
   "metadata": {},
   "outputs": [
    {
     "name": "stdout",
     "output_type": "stream",
     "text": [
      "<class 'pandas.core.frame.DataFrame'>\n",
      "RangeIndex: 93142 entries, 0 to 93141\n",
      "Data columns (total 1 columns):\n",
      "login_time    93142 non-null object\n",
      "dtypes: object(1)\n",
      "memory usage: 727.8+ KB\n"
     ]
    },
    {
     "data": {
      "text/html": [
       "<div>\n",
       "<style scoped>\n",
       "    .dataframe tbody tr th:only-of-type {\n",
       "        vertical-align: middle;\n",
       "    }\n",
       "\n",
       "    .dataframe tbody tr th {\n",
       "        vertical-align: top;\n",
       "    }\n",
       "\n",
       "    .dataframe thead th {\n",
       "        text-align: right;\n",
       "    }\n",
       "</style>\n",
       "<table border=\"1\" class=\"dataframe\">\n",
       "  <thead>\n",
       "    <tr style=\"text-align: right;\">\n",
       "      <th></th>\n",
       "      <th>login_time</th>\n",
       "    </tr>\n",
       "  </thead>\n",
       "  <tbody>\n",
       "    <tr>\n",
       "      <td>0</td>\n",
       "      <td>1970-01-01 20:13:18</td>\n",
       "    </tr>\n",
       "    <tr>\n",
       "      <td>1</td>\n",
       "      <td>1970-01-01 20:16:10</td>\n",
       "    </tr>\n",
       "    <tr>\n",
       "      <td>2</td>\n",
       "      <td>1970-01-01 20:16:37</td>\n",
       "    </tr>\n",
       "    <tr>\n",
       "      <td>3</td>\n",
       "      <td>1970-01-01 20:16:36</td>\n",
       "    </tr>\n",
       "    <tr>\n",
       "      <td>4</td>\n",
       "      <td>1970-01-01 20:26:21</td>\n",
       "    </tr>\n",
       "  </tbody>\n",
       "</table>\n",
       "</div>"
      ],
      "text/plain": [
       "            login_time\n",
       "0  1970-01-01 20:13:18\n",
       "1  1970-01-01 20:16:10\n",
       "2  1970-01-01 20:16:37\n",
       "3  1970-01-01 20:16:36\n",
       "4  1970-01-01 20:26:21"
      ]
     },
     "execution_count": 3,
     "metadata": {},
     "output_type": "execute_result"
    }
   ],
   "source": [
    "login.info()\n",
    "login.head()"
   ]
  },
  {
   "cell_type": "code",
   "execution_count": 4,
   "metadata": {},
   "outputs": [
    {
     "data": {
      "text/html": [
       "<div>\n",
       "<style scoped>\n",
       "    .dataframe tbody tr th:only-of-type {\n",
       "        vertical-align: middle;\n",
       "    }\n",
       "\n",
       "    .dataframe tbody tr th {\n",
       "        vertical-align: top;\n",
       "    }\n",
       "\n",
       "    .dataframe thead th {\n",
       "        text-align: right;\n",
       "    }\n",
       "</style>\n",
       "<table border=\"1\" class=\"dataframe\">\n",
       "  <thead>\n",
       "    <tr style=\"text-align: right;\">\n",
       "      <th></th>\n",
       "      <th>login_time</th>\n",
       "    </tr>\n",
       "  </thead>\n",
       "  <tbody>\n",
       "    <tr>\n",
       "      <td>count</td>\n",
       "      <td>93142</td>\n",
       "    </tr>\n",
       "    <tr>\n",
       "      <td>unique</td>\n",
       "      <td>92265</td>\n",
       "    </tr>\n",
       "    <tr>\n",
       "      <td>top</td>\n",
       "      <td>1970-03-14 17:45:52</td>\n",
       "    </tr>\n",
       "    <tr>\n",
       "      <td>freq</td>\n",
       "      <td>3</td>\n",
       "    </tr>\n",
       "  </tbody>\n",
       "</table>\n",
       "</div>"
      ],
      "text/plain": [
       "                 login_time\n",
       "count                 93142\n",
       "unique                92265\n",
       "top     1970-03-14 17:45:52\n",
       "freq                      3"
      ]
     },
     "execution_count": 4,
     "metadata": {},
     "output_type": "execute_result"
    }
   ],
   "source": [
    "login.describe()"
   ]
  },
  {
   "cell_type": "code",
   "execution_count": 5,
   "metadata": {},
   "outputs": [
    {
     "data": {
      "text/plain": [
       "1970-03-14 17:45:52    3\n",
       "1970-02-12 11:16:53    3\n",
       "1970-01-09 01:31:25    3\n",
       "1970-04-12 04:03:15    3\n",
       "1970-03-17 01:01:39    3\n",
       "1970-02-24 23:09:57    3\n",
       "1970-03-29 03:24:57    3\n",
       "1970-01-06 21:45:52    3\n",
       "1970-04-04 01:17:40    3\n",
       "1970-02-13 11:23:05    2\n",
       "Name: login_time, dtype: int64"
      ]
     },
     "execution_count": 5,
     "metadata": {},
     "output_type": "execute_result"
    }
   ],
   "source": [
    "login.login_time.value_counts().head(10)"
   ]
  },
  {
   "cell_type": "markdown",
   "metadata": {},
   "source": [
    "There are no missing values in the logins.json file, but there are several duplicate timestamps as seen above.  We are not sure how the data was collected and, as of now, unable to determine if the duplicates are valid entries or not.  We will treat them as valid for now."
   ]
  },
  {
   "cell_type": "code",
   "execution_count": 6,
   "metadata": {},
   "outputs": [
    {
     "data": {
      "text/html": [
       "<div>\n",
       "<style scoped>\n",
       "    .dataframe tbody tr th:only-of-type {\n",
       "        vertical-align: middle;\n",
       "    }\n",
       "\n",
       "    .dataframe tbody tr th {\n",
       "        vertical-align: top;\n",
       "    }\n",
       "\n",
       "    .dataframe thead th {\n",
       "        text-align: right;\n",
       "    }\n",
       "</style>\n",
       "<table border=\"1\" class=\"dataframe\">\n",
       "  <thead>\n",
       "    <tr style=\"text-align: right;\">\n",
       "      <th></th>\n",
       "      <th>login_time</th>\n",
       "    </tr>\n",
       "  </thead>\n",
       "  <tbody>\n",
       "    <tr>\n",
       "      <td>6</td>\n",
       "      <td>1970-01-01 20:12:16</td>\n",
       "    </tr>\n",
       "    <tr>\n",
       "      <td>0</td>\n",
       "      <td>1970-01-01 20:13:18</td>\n",
       "    </tr>\n",
       "    <tr>\n",
       "      <td>1</td>\n",
       "      <td>1970-01-01 20:16:10</td>\n",
       "    </tr>\n",
       "    <tr>\n",
       "      <td>3</td>\n",
       "      <td>1970-01-01 20:16:36</td>\n",
       "    </tr>\n",
       "    <tr>\n",
       "      <td>2</td>\n",
       "      <td>1970-01-01 20:16:37</td>\n",
       "    </tr>\n",
       "  </tbody>\n",
       "</table>\n",
       "</div>"
      ],
      "text/plain": [
       "           login_time\n",
       "6 1970-01-01 20:12:16\n",
       "0 1970-01-01 20:13:18\n",
       "1 1970-01-01 20:16:10\n",
       "3 1970-01-01 20:16:36\n",
       "2 1970-01-01 20:16:37"
      ]
     },
     "execution_count": 6,
     "metadata": {},
     "output_type": "execute_result"
    }
   ],
   "source": [
    "# Convert login_time column to datetime and sort in ascending order\n",
    "login['login_time'] = pd.to_datetime(login.login_time, format=\"%Y-%m-%d\")\n",
    "login = login.sort_values('login_time')\n",
    "login.head()"
   ]
  },
  {
   "cell_type": "markdown",
   "metadata": {},
   "source": [
    "The original dataset was not ordered by the timestamp, but we fixed it."
   ]
  },
  {
   "cell_type": "markdown",
   "metadata": {},
   "source": [
    "## Aggregate Login Counts Based on 15-Minute Intervals"
   ]
  },
  {
   "cell_type": "code",
   "execution_count": 7,
   "metadata": {},
   "outputs": [],
   "source": [
    "login['count'] = 1\n",
    "\n",
    "# Set login_time as the DateTime index\n",
    "login = login.set_index('login_time')"
   ]
  },
  {
   "cell_type": "code",
   "execution_count": 8,
   "metadata": {},
   "outputs": [],
   "source": [
    "# Resample login counts based on 15-minute time intervals\n",
    "login = login.resample('15T').sum()"
   ]
  },
  {
   "cell_type": "code",
   "execution_count": 9,
   "metadata": {},
   "outputs": [
    {
     "data": {
      "text/html": [
       "<div>\n",
       "<style scoped>\n",
       "    .dataframe tbody tr th:only-of-type {\n",
       "        vertical-align: middle;\n",
       "    }\n",
       "\n",
       "    .dataframe tbody tr th {\n",
       "        vertical-align: top;\n",
       "    }\n",
       "\n",
       "    .dataframe thead th {\n",
       "        text-align: right;\n",
       "    }\n",
       "</style>\n",
       "<table border=\"1\" class=\"dataframe\">\n",
       "  <thead>\n",
       "    <tr style=\"text-align: right;\">\n",
       "      <th></th>\n",
       "      <th>count</th>\n",
       "    </tr>\n",
       "    <tr>\n",
       "      <th>login_time</th>\n",
       "      <th></th>\n",
       "    </tr>\n",
       "  </thead>\n",
       "  <tbody>\n",
       "    <tr>\n",
       "      <td>1970-01-01 20:00:00</td>\n",
       "      <td>2</td>\n",
       "    </tr>\n",
       "    <tr>\n",
       "      <td>1970-01-01 20:15:00</td>\n",
       "      <td>6</td>\n",
       "    </tr>\n",
       "    <tr>\n",
       "      <td>1970-01-01 20:30:00</td>\n",
       "      <td>9</td>\n",
       "    </tr>\n",
       "    <tr>\n",
       "      <td>1970-01-01 20:45:00</td>\n",
       "      <td>7</td>\n",
       "    </tr>\n",
       "    <tr>\n",
       "      <td>1970-01-01 21:00:00</td>\n",
       "      <td>1</td>\n",
       "    </tr>\n",
       "  </tbody>\n",
       "</table>\n",
       "</div>"
      ],
      "text/plain": [
       "                     count\n",
       "login_time                \n",
       "1970-01-01 20:00:00      2\n",
       "1970-01-01 20:15:00      6\n",
       "1970-01-01 20:30:00      9\n",
       "1970-01-01 20:45:00      7\n",
       "1970-01-01 21:00:00      1"
      ]
     },
     "execution_count": 9,
     "metadata": {},
     "output_type": "execute_result"
    }
   ],
   "source": [
    "login.head()"
   ]
  },
  {
   "cell_type": "markdown",
   "metadata": {},
   "source": [
    "## Visualize Login Trends/Patterns"
   ]
  },
  {
   "cell_type": "markdown",
   "metadata": {},
   "source": [
    "### Histogram"
   ]
  },
  {
   "cell_type": "code",
   "execution_count": 10,
   "metadata": {},
   "outputs": [
    {
     "data": {
      "image/png": "[encoded data removed]",
      "text/plain": [
       "<Figure size 720x288 with 1 Axes>"
      ]
     },
     "metadata": {
      "needs_background": "light"
     },
     "output_type": "display_data"
    }
   ],
   "source": [
    "# Plot distribution of login counts per 15-minute interval\n",
    "plt.figure(figsize=(10,4))\n",
    "login['count'].plot(kind='hist',\n",
    "                    bins=np.arange(0,90,5),\n",
    "                    color='blue',\n",
    "                    title='Distribution of login counts per 15-minute interval')\n",
    "\n",
    "plt.xlabel(\"# of logins within the 15-minute interval\")\n",
    "plt.ylabel(\"Counts\")\n",
    "plt.show()"
   ]
  },
  {
   "cell_type": "markdown",
   "metadata": {},
   "source": [
    "Most login counts at 15-minute intervals range between 0-20."
   ]
  },
  {
   "cell_type": "markdown",
   "metadata": {},
   "source": [
    "### Plot Time Series Data"
   ]
  },
  {
   "cell_type": "code",
   "execution_count": 11,
   "metadata": {},
   "outputs": [
    {
     "data": {
      "image/png": "[encoded data removed]",
      "text/plain": [
       "<Figure size 1440x360 with 3 Axes>"
      ]
     },
     "metadata": {
      "needs_background": "light"
     },
     "output_type": "display_data"
    }
   ],
   "source": [
    "# Plot time series data\n",
    "plt.figure(figsize=(20,5))\n",
    "\n",
    "ax1 = plt.subplot(1,3,1)\n",
    "login.plot(ax=ax1,\n",
    "           color='red',\n",
    "           title='Login counts over entire time frame',legend=False)\n",
    "\n",
    "ax2 = plt.subplot(1,3,2)\n",
    "login['1970-03'].plot(ax=ax2,\n",
    "                      color='green',\n",
    "                      title='Login counts over a typical one-month period',legend=False)\n",
    "\n",
    "ax3 = plt.subplot(1,3,3)\n",
    "login['1970-03-14':'1970-03-15'].plot(ax=ax3,\n",
    "                                      color='blue', \n",
    "                                      title='Login counts over a typical two-day period',legend=False)\n",
    "\n",
    "plt.show()"
   ]
  },
  {
   "cell_type": "markdown",
   "metadata": {},
   "source": [
    "The time series trends of login counts at 15-minute intervals shows a clear daily, weekly and monthly cycle.  We'll take a closer look into this."
   ]
  },
  {
   "cell_type": "markdown",
   "metadata": {},
   "source": [
    "### Investigating Cyclic Patterns"
   ]
  },
  {
   "cell_type": "code",
   "execution_count": 12,
   "metadata": {},
   "outputs": [],
   "source": [
    "# Retrieve time features from datetime index\n",
    "login['month'] = login.index.month\n",
    "login['week'] = login.index.week\n",
    "login['day'] = login.index.day\n",
    "login['hour'] = login.index.hour\n",
    "login['day_of_week'] = login.index.dayofweek"
   ]
  },
  {
   "cell_type": "code",
   "execution_count": 13,
   "metadata": {},
   "outputs": [
    {
     "data": {
      "image/png": "[encoded data removed]",
      "text/plain": [
       "<Figure size 1080x360 with 2 Axes>"
      ]
     },
     "metadata": {
      "needs_background": "light"
     },
     "output_type": "display_data"
    }
   ],
   "source": [
    "# Display boxplot showing daily/weekly cycles\n",
    "\n",
    "plt.figure(figsize=(15,5))\n",
    "\n",
    "# Plot daily cycles\n",
    "ax1 = plt.subplot(1,2,1)\n",
    "sns.boxplot(x='hour',y='count',data=login,ax=ax1)\n",
    "ax1.set_title('Boxplot of login counts at 15-min interval by hour of the day')\n",
    "\n",
    "# Plot weekly cycles\n",
    "ax2 = plt.subplot(1,2,2)\n",
    "sns.boxplot(x='day_of_week',y='count',data=login,ax=ax2)\n",
    "ax2.set_title('Boxplot of login counts at 15-min interval by day of the week')\n",
    "ax2.set_xticklabels(['Mon','Tue','Wed','Thu','Fri','Sat','Sun'])\n",
    "\n",
    "plt.show()"
   ]
  },
  {
   "cell_type": "markdown",
   "metadata": {},
   "source": [
    "The login counts do show a cyclic pattern:\n",
    "- Daily pattern: the login counts at 15-minute intervals start the day off at its lowerst, 6am to 9am and then start to peak around 11am to 12pm, it slowly lowers but then starts to peak again around 9am to 1am, where it slowly starts to fall to the daily low starting at 6am again.  There are some outliers, let's see if it is caused by type of day.\n",
    "\n",
    "- Day of the week: the login counts at 15-minute intervals are at its lowest on Monday and gradually rises to its peak on Saturday and starts to lower again on Sunday.  It is safe to say Saturday creates the widest outliers on the daily hourly scale with wider distributions.\n",
    "\n",
    "We will confirm our suspicion of the differing daily patterns between weekend and weekday by looking at a heatmap."
   ]
  },
  {
   "cell_type": "code",
   "execution_count": 14,
   "metadata": {
    "scrolled": false
   },
   "outputs": [
    {
     "data": {
      "image/png": "[encoded data removed]",
      "text/plain": [
       "<Figure size 648x432 with 2 Axes>"
      ]
     },
     "metadata": {
      "needs_background": "light"
     },
     "output_type": "display_data"
    },
    {
     "data": {
      "text/html": [
       "<div>\n",
       "<style scoped>\n",
       "    .dataframe tbody tr th:only-of-type {\n",
       "        vertical-align: middle;\n",
       "    }\n",
       "\n",
       "    .dataframe tbody tr th {\n",
       "        vertical-align: top;\n",
       "    }\n",
       "\n",
       "    .dataframe thead th {\n",
       "        text-align: right;\n",
       "    }\n",
       "</style>\n",
       "<table border=\"1\" class=\"dataframe\">\n",
       "  <thead>\n",
       "    <tr style=\"text-align: right;\">\n",
       "      <th>hour</th>\n",
       "      <th>0</th>\n",
       "      <th>1</th>\n",
       "      <th>2</th>\n",
       "      <th>3</th>\n",
       "      <th>4</th>\n",
       "      <th>5</th>\n",
       "      <th>6</th>\n",
       "      <th>7</th>\n",
       "      <th>8</th>\n",
       "      <th>9</th>\n",
       "      <th>...</th>\n",
       "      <th>14</th>\n",
       "      <th>15</th>\n",
       "      <th>16</th>\n",
       "      <th>17</th>\n",
       "      <th>18</th>\n",
       "      <th>19</th>\n",
       "      <th>20</th>\n",
       "      <th>21</th>\n",
       "      <th>22</th>\n",
       "      <th>23</th>\n",
       "    </tr>\n",
       "    <tr>\n",
       "      <th>day_of_week</th>\n",
       "      <th></th>\n",
       "      <th></th>\n",
       "      <th></th>\n",
       "      <th></th>\n",
       "      <th></th>\n",
       "      <th></th>\n",
       "      <th></th>\n",
       "      <th></th>\n",
       "      <th></th>\n",
       "      <th></th>\n",
       "      <th></th>\n",
       "      <th></th>\n",
       "      <th></th>\n",
       "      <th></th>\n",
       "      <th></th>\n",
       "      <th></th>\n",
       "      <th></th>\n",
       "      <th></th>\n",
       "      <th></th>\n",
       "      <th></th>\n",
       "      <th></th>\n",
       "    </tr>\n",
       "  </thead>\n",
       "  <tbody>\n",
       "    <tr>\n",
       "      <td>0</td>\n",
       "      <td>8.85</td>\n",
       "      <td>6.9</td>\n",
       "      <td>5.2</td>\n",
       "      <td>3.933333</td>\n",
       "      <td>3.433333</td>\n",
       "      <td>2.016667</td>\n",
       "      <td>1.1</td>\n",
       "      <td>1.85</td>\n",
       "      <td>2.45</td>\n",
       "      <td>4.266667</td>\n",
       "      <td>...</td>\n",
       "      <td>5.616667</td>\n",
       "      <td>4.883333</td>\n",
       "      <td>4.15</td>\n",
       "      <td>3.966667</td>\n",
       "      <td>4.45</td>\n",
       "      <td>4.678571</td>\n",
       "      <td>6.714286</td>\n",
       "      <td>10.803571</td>\n",
       "      <td>10.910714</td>\n",
       "      <td>9.5</td>\n",
       "    </tr>\n",
       "  </tbody>\n",
       "</table>\n",
       "<p>1 rows × 24 columns</p>\n",
       "</div>"
      ],
      "text/plain": [
       "hour           0    1    2         3         4         5    6     7     8   \\\n",
       "day_of_week                                                                  \n",
       "0            8.85  6.9  5.2  3.933333  3.433333  2.016667  1.1  1.85  2.45   \n",
       "\n",
       "hour               9   ...        14        15    16        17    18  \\\n",
       "day_of_week            ...                                             \n",
       "0            4.266667  ...  5.616667  4.883333  4.15  3.966667  4.45   \n",
       "\n",
       "hour               19        20         21         22   23  \n",
       "day_of_week                                                 \n",
       "0            4.678571  6.714286  10.803571  10.910714  9.5  \n",
       "\n",
       "[1 rows x 24 columns]"
      ]
     },
     "execution_count": 14,
     "metadata": {},
     "output_type": "execute_result"
    }
   ],
   "source": [
    "# Pivot dataframe to look at differences in intervals by dayofweek and hour\n",
    "pivot = pd.pivot_table(login, index='day_of_week',columns='hour',values='count',aggfunc='mean')\n",
    "\n",
    "# Plot the heatmap\n",
    "plt.figure(figsize=(9,6))\n",
    "ax = sns.heatmap(pivot)\n",
    "ax.set_title(\"Average login counts by day of the week vs. hour of the day\")\n",
    "ax.set_yticklabels(['Mon','Tue','Wed','Thu','Fri','Sat','Sun'])\n",
    "\n",
    "plt.show()\n",
    "pivot.head(1)"
   ]
  },
  {
   "cell_type": "markdown",
   "metadata": {},
   "source": [
    "We are able to see a couple different cycles using the heatmap between weekends and weekdays:\n",
    "- Weekends: There is a clear rise in activity late night on weekends that go into the early day and suddenly die down between 6am and noon.  Then activity remains constant until the night again.\n",
    "- Weekdays: Activity is dead until the start of business day to beginning of lunch, and then start to lower between end of lunch and end of business day, where there's a small flow of login counts until late night.  Although, we see as each day gets closer to the weekend, login counts steadily rise later into the twilight."
   ]
  },
  {
   "cell_type": "markdown",
   "metadata": {},
   "source": [
    "### Trends Over Time"
   ]
  },
  {
   "cell_type": "code",
   "execution_count": 15,
   "metadata": {},
   "outputs": [
    {
     "data": {
      "image/png": "[encoded data removed]",
      "text/plain": [
       "<Figure size 1080x360 with 2 Axes>"
      ]
     },
     "metadata": {
      "needs_background": "light"
     },
     "output_type": "display_data"
    }
   ],
   "source": [
    "# Plor trends over time\n",
    "plt.figure(figsize=(15,5))\n",
    "\n",
    "# Monthly\n",
    "ax1 = plt.subplot(1,2,1)\n",
    "sns.boxplot(x='month',y='count',data=login,ax=ax1)\n",
    "ax1.set_title('Monthly stats of login counts over time')\n",
    "ax1.set_xticklabels(['Jan','Feb','Mar','Apr'])\n",
    "\n",
    "# Weekly\n",
    "ax2 = plt.subplot(1,2,2)\n",
    "sns.boxplot(x='week',y='count',data=login,ax=ax2)\n",
    "ax2.set_title('Weekly stats of login counts over time')\n",
    "\n",
    "plt.show()"
   ]
  },
  {
   "cell_type": "markdown",
   "metadata": {},
   "source": [
    "There is a steady rise of login counts at 15-minute intervals between January and March, followed by a drop in April.  It is confirmed by the weekly charts, but the drop in April is highlighted to an extreme during the last few weeks.  It's even lower than February, which isn't seen through the monthly charts.  There may be some underlying issue."
   ]
  },
  {
   "cell_type": "markdown",
   "metadata": {},
   "source": [
    "# Part 2. Experiment and Metrics Design\n",
    "\n",
    "\n",
    "The neighboring cities of Gotham and Metropolis have complementary circadian rhythms: on weekdays, Ultimate Gotham is most active at night, and Ultimate Metropolis is most active during the day. On weekends, there is reasonable activity in both cities.\n",
    "\n",
    "However, a toll bridge, with a two-way toll, between the two cities causes driver partners to tend to be exclusive to each city. The Ultimate managers of city operations for the two cities have proposed an experiment to encourage driver partners to be available in both cities, by reimbursing all toll costs.\n",
    "1. What would you choose as the key measure of success of this experiment in encouraging driver partners to serve both cities, and why would you choose this metric?\n",
    "2. Describe a practical experiment you would design to compare the effectiveness of the proposed change in relation to the key measure of success. Please provide details on:\n",
    "    - how you will implement the experiment.\n",
    "    - what statistical test(s) you will conduct to verify the significance of the observation.\n",
    "    - how you would interpret the results and provide recommendations to the city operations team along with any caveats."
   ]
  },
  {
   "cell_type": "markdown",
   "metadata": {},
   "source": [
    "### 1. What would you choose as the key measure of success of this experiment in encouraging driver partners to serve both cities, and why would you choose this metric?"
   ]
  },
  {
   "cell_type": "markdown",
   "metadata": {},
   "source": [
    "**Find the two groups of driver partners**\n",
    "- Driver partners exclusive to Metropolis.\n",
    "- Driver partners exclusive to Gotham.\n",
    "\n",
    "**Key measure of success**\n",
    "- Increased time spent in Metropolis by drivers normally exclusive to Gotham.\n",
    "- Increased time spent in Gotham by drivers normally exclusive to Metropolis.\n",
    "- Making sure a switch doesn't occur (Metropolis drivers become exclusive to Gotham and vice versa).\n",
    "\n",
    "**Reasoning**\n",
    "- Is effective in measuring whether or not both of the driver partners are serving both cities and not just one or neither, which is the ultimate goal of the experiment.\n",
    "- Easy to implement and simplest measure.\n",
    "\n",
    "**What's Needed**\n",
    "- The toll stations at the toll bridge must keep record from each toll, the date, timestamp and vehicle/driver registration (plate and/or license).  This way we can determine when a driver left one city and entered the other, and then returned to the city of origin (time spent crossed-over).  We can subtract the timestamp of the returning toll from the timestamp of the exit toll.  For example:\n",
    "    - Driver A left Gotham and entered Metropolis at x-time.  Then return from Metropolis to Gotham at x-time.\n",
    "\n",
    "**Positives**\n",
    "- This metric is easy to record, track, is low cost and is simple.  The agreement of the driver is not needed for participation and there is no cost for installation of tracking equipment within driver partner cars.\n",
    "\n",
    "**Negatives**\n",
    "- This metric only tracks time spent, which can equate to attempt of business; not actual business (tracking pickups and dropoffs), breaks, personal time (driver partners could be Uber drivers who are just visiting for fun) or a mixture of all.  Perhaps, a driver partner's car broke down and it took time to repair.  That's false information of time spent."
   ]
  },
  {
   "cell_type": "markdown",
   "metadata": {},
   "source": [
    "### 2. Describe a practical experiment you would design to compare the effectiveness of the proposed change in relation to the key measure of success. Please provide details on:"
   ]
  },
  {
   "cell_type": "markdown",
   "metadata": {},
   "source": [
    "**How you will implement the experiment?**\n",
    "\n",
    "- We divide the driver partners into two groups based on the city that they spend the most time in.  As mentioned above, the drivers currently are mostly exclusive to one of the two cities.  Toll records could help in showing which driver spends more time in Gotham (group A) and which drivers spend more time in Metropolis (group B).\n",
    "\n",
    "\n",
    "- We set up a control group and an experimental group.  Half of all drivers from group A and group B are randomly chosen to be in the control group and the remaining will be in the experimental group.  The experimental group will be given toll passes, or reimbursement offers, for the length of the experiment; but will not be asked to go to the other city.  It is a matter of free will.\n",
    "\n",
    "\n",
    "- We observe the toll records for the length of the experiment and examine whether the statistics of the experimental group is significantly different than the statistics of the control group when it comes to spending time in the opposite city, due to toll reimbursements/passes."
   ]
  },
  {
   "cell_type": "markdown",
   "metadata": {},
   "source": [
    "**What statistical test(s) you will conduct to verify the significance of the observation?**\n",
    "\n",
    "A/B testing will be conducted, allowing us to evaluate the key metric for each group, comparing the experimental group with the control group.  The toll reimbursement/pass will be the only variable in the test.  This allows for testing within various days of the week, hours in the day, weeks in the month and various weather conditions.\n",
    "\n",
    "After enough data is collected, we will compute a two-sample t-statistic to determine if the average time drivers spend in their non-associated city is significantly different between the experimental group and the control group.\n",
    "\n",
    "|A/B Testing| |\n",
    "|----------------------|----|\n",
    "|Significance level: |0.05|\n",
    "|Null hypothesis is: |$$H_0: \\mu_(experiment) - \\mu_(control) = 0$$|\n",
    "|Alternative hypothesis is: |$$H_a: \\mu_(experiment) - \\mu_(control) > 0$$|\n",
    "\n",
    "We will compute the t-statistics and use $t$ table to find the p-value and draw conclusion."
   ]
  },
  {
   "cell_type": "markdown",
   "metadata": {},
   "source": [
    "**How you would interpret the results and provide recommendations to the city operations team along with any caveats:**\n",
    "\n",
    "Interpreting the results depends on the p-value concluded from the t-tests for each group.  If the p-value is smaller than the significance level for both group A and group B, the experiment and results, along with the confidence level and power of the statistical tests should be presented to the city operation team in order to make an informed decision on whether to implement the toll reimbursement strategy or not.\n",
    "\n",
    "Potential caveats are:\n",
    "- *The difference is only significant during weekdays, but not on weekends.*  This is a possibility because there is much activity in both cities during the weekends and drivers can stay busy in one city without having to cross into the other.\n",
    "\n",
    "\n",
    "- *The difference is only significant in one group, but not the other group.*  This is a possibiity because Gotham is busy at night and without a toll, drivers may be inclined to enter Metropolis during the day to obtain riders.  While Metropolis is more active during the day and drivers may not need, want or be willing to go to Gotham at night and may choose to be at home with family.  It can also work in reverse as well."
   ]
  },
  {
   "cell_type": "markdown",
   "metadata": {},
   "source": [
    "# Part 3. Predictive Modeling \n",
    "Ultimate is interested in predicting rider retention. To help explore this question, we have provided a sample dataset of a cohort of users who signed up for an Ultimate account in January 2014. The data was pulled several months later; we consider a user retained if they were “active” (i.e. took a trip) in the preceding 30 days.\n",
    "\n",
    "We would like you to use this data set to help understand what factors are the best predictors for retention, and offer suggestions to operationalize those insights to help Ultimate.\n",
    "\n",
    "1. Perform any cleaning, exploratory analysis, and/or visualizations to use the provided data for this analysis (a few sentences/plots describing your approach will suffice). What fraction of the observed users were retained?\n",
    "2. Build a predictive model to help Ultimate determine whether or not a user will be active in their 6th month on the system. Discuss why you chose your approach, what alternatives you considered, and any concerns you have. How valid is your model? Include any key indicators of model performance.\n",
    "3. Briefly discuss how Ultimate might leverage the insights gained from the model to improve its long­term rider retention (again, a few sentences will suffice).\n"
   ]
  },
  {
   "cell_type": "markdown",
   "metadata": {},
   "source": [
    "## Import and Wrangle Data"
   ]
  },
  {
   "cell_type": "code",
   "execution_count": 16,
   "metadata": {},
   "outputs": [],
   "source": [
    "# Read in new data\n",
    "with open('ultimate_data_challenge.json') as f:\n",
    "    data = json.load(f)\n",
    "users = pd.DataFrame(data)"
   ]
  },
  {
   "cell_type": "code",
   "execution_count": 17,
   "metadata": {},
   "outputs": [
    {
     "name": "stdout",
     "output_type": "stream",
     "text": [
      "<class 'pandas.core.frame.DataFrame'>\n",
      "RangeIndex: 50000 entries, 0 to 49999\n",
      "Data columns (total 12 columns):\n",
      "city                      50000 non-null object\n",
      "trips_in_first_30_days    50000 non-null int64\n",
      "signup_date               50000 non-null object\n",
      "avg_rating_of_driver      41878 non-null float64\n",
      "avg_surge                 50000 non-null float64\n",
      "last_trip_date            50000 non-null object\n",
      "phone                     49604 non-null object\n",
      "surge_pct                 50000 non-null float64\n",
      "ultimate_black_user       50000 non-null bool\n",
      "weekday_pct               50000 non-null float64\n",
      "avg_dist                  50000 non-null float64\n",
      "avg_rating_by_driver      49799 non-null float64\n",
      "dtypes: bool(1), float64(6), int64(1), object(4)\n",
      "memory usage: 4.2+ MB\n"
     ]
    },
    {
     "data": {
      "text/html": [
       "<div>\n",
       "<style scoped>\n",
       "    .dataframe tbody tr th:only-of-type {\n",
       "        vertical-align: middle;\n",
       "    }\n",
       "\n",
       "    .dataframe tbody tr th {\n",
       "        vertical-align: top;\n",
       "    }\n",
       "\n",
       "    .dataframe thead th {\n",
       "        text-align: right;\n",
       "    }\n",
       "</style>\n",
       "<table border=\"1\" class=\"dataframe\">\n",
       "  <thead>\n",
       "    <tr style=\"text-align: right;\">\n",
       "      <th></th>\n",
       "      <th>city</th>\n",
       "      <th>trips_in_first_30_days</th>\n",
       "      <th>signup_date</th>\n",
       "      <th>avg_rating_of_driver</th>\n",
       "      <th>avg_surge</th>\n",
       "      <th>last_trip_date</th>\n",
       "      <th>phone</th>\n",
       "      <th>surge_pct</th>\n",
       "      <th>ultimate_black_user</th>\n",
       "      <th>weekday_pct</th>\n",
       "      <th>avg_dist</th>\n",
       "      <th>avg_rating_by_driver</th>\n",
       "    </tr>\n",
       "  </thead>\n",
       "  <tbody>\n",
       "    <tr>\n",
       "      <td>0</td>\n",
       "      <td>King's Landing</td>\n",
       "      <td>4</td>\n",
       "      <td>2014-01-25</td>\n",
       "      <td>4.7</td>\n",
       "      <td>1.10</td>\n",
       "      <td>2014-06-17</td>\n",
       "      <td>iPhone</td>\n",
       "      <td>15.4</td>\n",
       "      <td>True</td>\n",
       "      <td>46.2</td>\n",
       "      <td>3.67</td>\n",
       "      <td>5.0</td>\n",
       "    </tr>\n",
       "    <tr>\n",
       "      <td>1</td>\n",
       "      <td>Astapor</td>\n",
       "      <td>0</td>\n",
       "      <td>2014-01-29</td>\n",
       "      <td>5.0</td>\n",
       "      <td>1.00</td>\n",
       "      <td>2014-05-05</td>\n",
       "      <td>Android</td>\n",
       "      <td>0.0</td>\n",
       "      <td>False</td>\n",
       "      <td>50.0</td>\n",
       "      <td>8.26</td>\n",
       "      <td>5.0</td>\n",
       "    </tr>\n",
       "    <tr>\n",
       "      <td>2</td>\n",
       "      <td>Astapor</td>\n",
       "      <td>3</td>\n",
       "      <td>2014-01-06</td>\n",
       "      <td>4.3</td>\n",
       "      <td>1.00</td>\n",
       "      <td>2014-01-07</td>\n",
       "      <td>iPhone</td>\n",
       "      <td>0.0</td>\n",
       "      <td>False</td>\n",
       "      <td>100.0</td>\n",
       "      <td>0.77</td>\n",
       "      <td>5.0</td>\n",
       "    </tr>\n",
       "    <tr>\n",
       "      <td>3</td>\n",
       "      <td>King's Landing</td>\n",
       "      <td>9</td>\n",
       "      <td>2014-01-10</td>\n",
       "      <td>4.6</td>\n",
       "      <td>1.14</td>\n",
       "      <td>2014-06-29</td>\n",
       "      <td>iPhone</td>\n",
       "      <td>20.0</td>\n",
       "      <td>True</td>\n",
       "      <td>80.0</td>\n",
       "      <td>2.36</td>\n",
       "      <td>4.9</td>\n",
       "    </tr>\n",
       "    <tr>\n",
       "      <td>4</td>\n",
       "      <td>Winterfell</td>\n",
       "      <td>14</td>\n",
       "      <td>2014-01-27</td>\n",
       "      <td>4.4</td>\n",
       "      <td>1.19</td>\n",
       "      <td>2014-03-15</td>\n",
       "      <td>Android</td>\n",
       "      <td>11.8</td>\n",
       "      <td>False</td>\n",
       "      <td>82.4</td>\n",
       "      <td>3.13</td>\n",
       "      <td>4.9</td>\n",
       "    </tr>\n",
       "  </tbody>\n",
       "</table>\n",
       "</div>"
      ],
      "text/plain": [
       "             city  trips_in_first_30_days signup_date  avg_rating_of_driver  \\\n",
       "0  King's Landing                       4  2014-01-25                   4.7   \n",
       "1         Astapor                       0  2014-01-29                   5.0   \n",
       "2         Astapor                       3  2014-01-06                   4.3   \n",
       "3  King's Landing                       9  2014-01-10                   4.6   \n",
       "4      Winterfell                      14  2014-01-27                   4.4   \n",
       "\n",
       "   avg_surge last_trip_date    phone  surge_pct  ultimate_black_user  \\\n",
       "0       1.10     2014-06-17   iPhone       15.4                 True   \n",
       "1       1.00     2014-05-05  Android        0.0                False   \n",
       "2       1.00     2014-01-07   iPhone        0.0                False   \n",
       "3       1.14     2014-06-29   iPhone       20.0                 True   \n",
       "4       1.19     2014-03-15  Android       11.8                False   \n",
       "\n",
       "   weekday_pct  avg_dist  avg_rating_by_driver  \n",
       "0         46.2      3.67                   5.0  \n",
       "1         50.0      8.26                   5.0  \n",
       "2        100.0      0.77                   5.0  \n",
       "3         80.0      2.36                   4.9  \n",
       "4         82.4      3.13                   4.9  "
      ]
     },
     "execution_count": 17,
     "metadata": {},
     "output_type": "execute_result"
    }
   ],
   "source": [
    "users.info()\n",
    "users.head()"
   ]
  },
  {
   "cell_type": "markdown",
   "metadata": {},
   "source": [
    "There are three columns with missing data, `phone`, which is categorical, and `avg_rating_of_driver` & `avg_rating_by_driver`, which are numerical.  We may look to drop or fill the missing data.  We also need to convert the columns relating to dates into a datetime format."
   ]
  },
  {
   "cell_type": "code",
   "execution_count": 18,
   "metadata": {},
   "outputs": [],
   "source": [
    "# Convert date columns to datetime format\n",
    "users['signup_date'] = pd.to_datetime(users.signup_date, format='%Y-%m-%d')\n",
    "users['last_trip_date'] = pd.to_datetime(users.last_trip_date, format='%Y-%m-%d')"
   ]
  },
  {
   "cell_type": "code",
   "execution_count": 19,
   "metadata": {},
   "outputs": [
    {
     "name": "stdout",
     "output_type": "stream",
     "text": [
      "---\n",
      " Winterfell        23336\n",
      "Astapor           16534\n",
      "King's Landing    10130\n",
      "Name: city, dtype: int64\n",
      "---\n",
      " iPhone     34582\n",
      "Android    15022\n",
      "NaN          396\n",
      "Name: phone, dtype: int64\n",
      "---\n",
      " False    31146\n",
      "True     18854\n",
      "Name: ultimate_black_user, dtype: int64\n"
     ]
    }
   ],
   "source": [
    "# Observe categorical columns\n",
    "print(\"---\\n\",users.city.value_counts(dropna=False))\n",
    "print(\"---\\n\",users.phone.value_counts(dropna=False))\n",
    "print(\"---\\n\",users.ultimate_black_user.value_counts(dropna=False))"
   ]
  },
  {
   "cell_type": "code",
   "execution_count": 20,
   "metadata": {},
   "outputs": [
    {
     "data": {
      "text/html": [
       "<div>\n",
       "<style scoped>\n",
       "    .dataframe tbody tr th:only-of-type {\n",
       "        vertical-align: middle;\n",
       "    }\n",
       "\n",
       "    .dataframe tbody tr th {\n",
       "        vertical-align: top;\n",
       "    }\n",
       "\n",
       "    .dataframe thead th {\n",
       "        text-align: right;\n",
       "    }\n",
       "</style>\n",
       "<table border=\"1\" class=\"dataframe\">\n",
       "  <thead>\n",
       "    <tr style=\"text-align: right;\">\n",
       "      <th></th>\n",
       "      <th>trips_in_first_30_days</th>\n",
       "      <th>avg_rating_of_driver</th>\n",
       "      <th>avg_surge</th>\n",
       "      <th>surge_pct</th>\n",
       "      <th>weekday_pct</th>\n",
       "      <th>avg_dist</th>\n",
       "      <th>avg_rating_by_driver</th>\n",
       "    </tr>\n",
       "  </thead>\n",
       "  <tbody>\n",
       "    <tr>\n",
       "      <td>count</td>\n",
       "      <td>50000.000000</td>\n",
       "      <td>41878.000000</td>\n",
       "      <td>50000.000000</td>\n",
       "      <td>50000.000000</td>\n",
       "      <td>50000.000000</td>\n",
       "      <td>50000.000000</td>\n",
       "      <td>49799.000000</td>\n",
       "    </tr>\n",
       "    <tr>\n",
       "      <td>mean</td>\n",
       "      <td>2.278200</td>\n",
       "      <td>4.601559</td>\n",
       "      <td>1.074764</td>\n",
       "      <td>8.849536</td>\n",
       "      <td>60.926084</td>\n",
       "      <td>5.796827</td>\n",
       "      <td>4.778158</td>\n",
       "    </tr>\n",
       "    <tr>\n",
       "      <td>std</td>\n",
       "      <td>3.792684</td>\n",
       "      <td>0.617338</td>\n",
       "      <td>0.222336</td>\n",
       "      <td>19.958811</td>\n",
       "      <td>37.081503</td>\n",
       "      <td>5.707357</td>\n",
       "      <td>0.446652</td>\n",
       "    </tr>\n",
       "    <tr>\n",
       "      <td>min</td>\n",
       "      <td>0.000000</td>\n",
       "      <td>1.000000</td>\n",
       "      <td>1.000000</td>\n",
       "      <td>0.000000</td>\n",
       "      <td>0.000000</td>\n",
       "      <td>0.000000</td>\n",
       "      <td>1.000000</td>\n",
       "    </tr>\n",
       "    <tr>\n",
       "      <td>25%</td>\n",
       "      <td>0.000000</td>\n",
       "      <td>4.300000</td>\n",
       "      <td>1.000000</td>\n",
       "      <td>0.000000</td>\n",
       "      <td>33.300000</td>\n",
       "      <td>2.420000</td>\n",
       "      <td>4.700000</td>\n",
       "    </tr>\n",
       "    <tr>\n",
       "      <td>50%</td>\n",
       "      <td>1.000000</td>\n",
       "      <td>4.900000</td>\n",
       "      <td>1.000000</td>\n",
       "      <td>0.000000</td>\n",
       "      <td>66.700000</td>\n",
       "      <td>3.880000</td>\n",
       "      <td>5.000000</td>\n",
       "    </tr>\n",
       "    <tr>\n",
       "      <td>75%</td>\n",
       "      <td>3.000000</td>\n",
       "      <td>5.000000</td>\n",
       "      <td>1.050000</td>\n",
       "      <td>8.600000</td>\n",
       "      <td>100.000000</td>\n",
       "      <td>6.940000</td>\n",
       "      <td>5.000000</td>\n",
       "    </tr>\n",
       "    <tr>\n",
       "      <td>max</td>\n",
       "      <td>125.000000</td>\n",
       "      <td>5.000000</td>\n",
       "      <td>8.000000</td>\n",
       "      <td>100.000000</td>\n",
       "      <td>100.000000</td>\n",
       "      <td>160.960000</td>\n",
       "      <td>5.000000</td>\n",
       "    </tr>\n",
       "  </tbody>\n",
       "</table>\n",
       "</div>"
      ],
      "text/plain": [
       "       trips_in_first_30_days  avg_rating_of_driver     avg_surge  \\\n",
       "count            50000.000000          41878.000000  50000.000000   \n",
       "mean                 2.278200              4.601559      1.074764   \n",
       "std                  3.792684              0.617338      0.222336   \n",
       "min                  0.000000              1.000000      1.000000   \n",
       "25%                  0.000000              4.300000      1.000000   \n",
       "50%                  1.000000              4.900000      1.000000   \n",
       "75%                  3.000000              5.000000      1.050000   \n",
       "max                125.000000              5.000000      8.000000   \n",
       "\n",
       "          surge_pct   weekday_pct      avg_dist  avg_rating_by_driver  \n",
       "count  50000.000000  50000.000000  50000.000000          49799.000000  \n",
       "mean       8.849536     60.926084      5.796827              4.778158  \n",
       "std       19.958811     37.081503      5.707357              0.446652  \n",
       "min        0.000000      0.000000      0.000000              1.000000  \n",
       "25%        0.000000     33.300000      2.420000              4.700000  \n",
       "50%        0.000000     66.700000      3.880000              5.000000  \n",
       "75%        8.600000    100.000000      6.940000              5.000000  \n",
       "max      100.000000    100.000000    160.960000              5.000000  "
      ]
     },
     "execution_count": 20,
     "metadata": {},
     "output_type": "execute_result"
    }
   ],
   "source": [
    "# Observe numerical columns\n",
    "users.describe()"
   ]
  },
  {
   "cell_type": "markdown",
   "metadata": {},
   "source": [
    "Some of the max values are much larger than the average, so we will impute median values for the missing data in the numerical columns."
   ]
  },
  {
   "cell_type": "code",
   "execution_count": 21,
   "metadata": {},
   "outputs": [],
   "source": [
    "# Fill missing data to N/A under phone column (categorical)\n",
    "users.phone = users.phone.fillna('N/A')\n",
    "\n",
    "# Fill missing data for avg_rating_of_driver and avg_rating_of_driver columns (numerical)\n",
    "users['avg_rating_by_driver'] = users.avg_rating_by_driver.fillna(users.avg_rating_by_driver.median())\n",
    "users['avg_rating_of_driver'] = users.avg_rating_of_driver.fillna(users.avg_rating_of_driver.median())"
   ]
  },
  {
   "cell_type": "markdown",
   "metadata": {},
   "source": [
    "#### Find the fraction of retained users\n",
    "Since the data was pulled on 2014-07-01, we will consider 'retained' as being if a user made a trip within 30 days of 2014-07-01."
   ]
  },
  {
   "cell_type": "code",
   "execution_count": 22,
   "metadata": {},
   "outputs": [
    {
     "data": {
      "text/plain": [
       "Timestamp('2014-06-01 00:00:00')"
      ]
     },
     "execution_count": 22,
     "metadata": {},
     "output_type": "execute_result"
    }
   ],
   "source": [
    "# Find range for determining retained users\n",
    "beginning = users.last_trip_date.max() - pd.Timedelta('30 days')\n",
    "beginning"
   ]
  },
  {
   "cell_type": "code",
   "execution_count": 23,
   "metadata": {},
   "outputs": [],
   "source": [
    "# Find retained users using cutoff range\n",
    "users['retained'] = users.last_trip_date.apply(lambda x: True if x >= beginning else False)"
   ]
  },
  {
   "cell_type": "code",
   "execution_count": 24,
   "metadata": {},
   "outputs": [
    {
     "data": {
      "text/plain": [
       "'Only 37.61% of all users that signed up in January of 2014 are retained 6 months later'"
      ]
     },
     "execution_count": 24,
     "metadata": {},
     "output_type": "execute_result"
    }
   ],
   "source": [
    "# Find  the fraction of retained users\n",
    "fraction = users.retained.sum()/len(users)\n",
    "\n",
    "'Only {:.2f}% of all users that signed up in January of 2014 are retained 6 months later'.format(fraction*100)"
   ]
  },
  {
   "cell_type": "markdown",
   "metadata": {},
   "source": [
    "## Exploratory Data Analysis"
   ]
  },
  {
   "cell_type": "markdown",
   "metadata": {},
   "source": [
    "#### Correlating Retained Users and Numericals"
   ]
  },
  {
   "cell_type": "code",
   "execution_count": 25,
   "metadata": {},
   "outputs": [
    {
     "data": {
      "image/png": "[encoded data removed]",
      "text/plain": [
       "<Figure size 720x432 with 2 Axes>"
      ]
     },
     "metadata": {
      "needs_background": "light"
     },
     "output_type": "display_data"
    }
   ],
   "source": [
    "plt.figure(figsize=(10,6))\n",
    "sns.heatmap(users.corr(),annot=True)\n",
    "\n",
    "plt.show()"
   ]
  },
  {
   "cell_type": "markdown",
   "metadata": {},
   "source": [
    "Among numerical columns, trips_in_first_30_days shows the most positive correlation, avg_dist shows the most negative.  Several numerical columns only show minimal correlation, such as avg_rating_by_driver and avg_rating_of_driver columns."
   ]
  },
  {
   "cell_type": "markdown",
   "metadata": {},
   "source": [
    "#### Correlating Retained Users and Categories"
   ]
  },
  {
   "cell_type": "code",
   "execution_count": 26,
   "metadata": {},
   "outputs": [
    {
     "data": {
      "image/png": "[encoded data removed]",
      "text/plain": [
       "<Figure size 432x288 with 1 Axes>"
      ]
     },
     "metadata": {
      "needs_background": "light"
     },
     "output_type": "display_data"
    }
   ],
   "source": [
    "# Correlation between retained and ultimate_black_users\n",
    "sns.countplot(x='ultimate_black_user', data=users, hue='retained')\n",
    "\n",
    "plt.show()"
   ]
  },
  {
   "cell_type": "markdown",
   "metadata": {},
   "source": [
    "Ultimate black users have a higher retention rate than non-ultimate black users."
   ]
  },
  {
   "cell_type": "code",
   "execution_count": 27,
   "metadata": {},
   "outputs": [
    {
     "data": {
      "image/png": "[encoded data removed]",
      "text/plain": [
       "<Figure size 432x288 with 1 Axes>"
      ]
     },
     "metadata": {
      "needs_background": "light"
     },
     "output_type": "display_data"
    }
   ],
   "source": [
    "# Correlation between retained and city\n",
    "sns.countplot(x='city', data=users, hue='retained')\n",
    "\n",
    "plt.show()"
   ]
  },
  {
   "cell_type": "markdown",
   "metadata": {},
   "source": [
    "King's Landing users have the highest retention rate, followed by Winterfell, then Astapor City."
   ]
  },
  {
   "cell_type": "code",
   "execution_count": 28,
   "metadata": {},
   "outputs": [
    {
     "data": {
      "image/png": "[encoded data removed]",
      "text/plain": [
       "<Figure size 864x288 with 2 Axes>"
      ]
     },
     "metadata": {
      "needs_background": "light"
     },
     "output_type": "display_data"
    }
   ],
   "source": [
    "# Correlation between retained and phone\n",
    "plt.figure(figsize=(12,4))\n",
    "\n",
    "ax1 = plt.subplot(1,2,1)\n",
    "sns.countplot(x='phone', data=users, hue='retained',ax=ax1)\n",
    "\n",
    "ax2 = plt.subplot(1,2,2)\n",
    "sns.countplot(x='phone', data=users[users.phone == 'N/A'], hue='retained',ax=ax2)\n",
    "\n",
    "plt.show()"
   ]
  },
  {
   "cell_type": "markdown",
   "metadata": {},
   "source": [
    "iphone users have a much higher retention rate, 44.9%, than Android users, 20.9%, while the N/A users' rate is 33.6%."
   ]
  },
  {
   "cell_type": "markdown",
   "metadata": {},
   "source": [
    "#### Correlating Retained Users and DateTime"
   ]
  },
  {
   "cell_type": "code",
   "execution_count": 29,
   "metadata": {},
   "outputs": [
    {
     "name": "stdout",
     "output_type": "stream",
     "text": [
      "signup_date\n",
      "0    0.387984\n",
      "1    0.376073\n",
      "2    0.376645\n",
      "3    0.360115\n",
      "4    0.370533\n",
      "5    0.380453\n",
      "6    0.384687\n",
      "Name: retained, dtype: float64\n"
     ]
    },
    {
     "data": {
      "image/png": "[encoded data removed]",
      "text/plain": [
       "<Figure size 432x288 with 1 Axes>"
      ]
     },
     "metadata": {
      "needs_background": "light"
     },
     "output_type": "display_data"
    }
   ],
   "source": [
    "# Correlation between retained and day of the week the user signed up\n",
    "sns.countplot(x=users.signup_date.dt.dayofweek, data=users, hue='retained')\n",
    "print(users.groupby(users.signup_date.dt.dayofweek)['retained'].mean())"
   ]
  },
  {
   "cell_type": "code",
   "execution_count": 30,
   "metadata": {},
   "outputs": [
    {
     "name": "stdout",
     "output_type": "stream",
     "text": [
      "signup_date\n",
      "1    0.413005\n",
      "2    0.377241\n",
      "3    0.358766\n",
      "4    0.374445\n",
      "5    0.370746\n",
      "Name: retained, dtype: float64\n"
     ]
    },
    {
     "data": {
      "image/png": "[encoded data removed]",
      "text/plain": [
       "<Figure size 432x288 with 1 Axes>"
      ]
     },
     "metadata": {
      "needs_background": "light"
     },
     "output_type": "display_data"
    }
   ],
   "source": [
    "# Correlation between retained and week of the month the user signed up\n",
    "sns.countplot(x=users.signup_date.dt.week, data=users, hue='retained')\n",
    "print(users.groupby(users.signup_date.dt.week)['retained'].mean())\n",
    "\n",
    "# Add signup_week as a new featue and drop the original signup_date column\n",
    "users['signup_week'] = users.signup_date.dt.week.astype('category')\n",
    "users = users.drop('signup_date',axis=1)"
   ]
  },
  {
   "cell_type": "markdown",
   "metadata": {},
   "source": [
    "There's little correlation between retained users and day of the week they signed up so the feature is not needed.  However, there's some correlation between retained users and the week in January they signed up so a new feature is added and signup_date will be dropped."
   ]
  },
  {
   "cell_type": "code",
   "execution_count": 31,
   "metadata": {},
   "outputs": [
    {
     "name": "stdout",
     "output_type": "stream",
     "text": [
      "last_trip_date\n",
      "0    0.438352\n",
      "1    0.381611\n",
      "2    0.328779\n",
      "3    0.340780\n",
      "4    0.359635\n",
      "5    0.371874\n",
      "6    0.389008\n",
      "Name: retained, dtype: float64\n"
     ]
    },
    {
     "data": {
      "image/png": "[encoded data removed]",
      "text/plain": [
       "<Figure size 432x288 with 1 Axes>"
      ]
     },
     "metadata": {
      "needs_background": "light"
     },
     "output_type": "display_data"
    }
   ],
   "source": [
    "# Correlation between retained and day of the week of the user's last trip\n",
    "sns.countplot(x=users.last_trip_date.dt.dayofweek, data=users, hue='retained')\n",
    "print(users.groupby(users.last_trip_date.dt.dayofweek)['retained'].mean())\n",
    "\n",
    "# Add lasttrip_dayofweek as a new featue\n",
    "users['lasttrip_dayofweek'] = users.last_trip_date.dt.dayofweek.astype('category')"
   ]
  },
  {
   "cell_type": "code",
   "execution_count": 32,
   "metadata": {},
   "outputs": [
    {
     "data": {
      "image/png": "[encoded data removed]",
      "text/plain": [
       "<Figure size 432x288 with 1 Axes>"
      ]
     },
     "metadata": {
      "needs_background": "light"
     },
     "output_type": "display_data"
    }
   ],
   "source": [
    "# Correlation between retained and the month of the user's last trip\n",
    "sns.countplot(x=users.last_trip_date.dt.month, data=users, hue='retained')\n",
    "\n",
    "# Drop original last_trip_date column\n",
    "users = users.drop('last_trip_date',axis=1)"
   ]
  },
  {
   "cell_type": "markdown",
   "metadata": {},
   "source": [
    "There's some correlation between retained users and which day of the week the user's last trip occured so a new fewature is added.  Retained users are correlated to the month of the last trip taken but a feature is not taken because it is already known between 2014-06-01 and 2014-07-01 so last_trip_date can be dropped."
   ]
  },
  {
   "cell_type": "markdown",
   "metadata": {},
   "source": [
    "## Modeling\n",
    "\n",
    "To predict user adoption of the product, three different classification algorithms are experimented: \n",
    "- Logistic Regression (linear)\n",
    "- Support Vector Machine (non-linear)\n",
    "- Gradient Boosting (ensemble)"
   ]
  },
  {
   "cell_type": "code",
   "execution_count": 33,
   "metadata": {},
   "outputs": [],
   "source": [
    "from sklearn.preprocessing import StandardScaler\n",
    "from sklearn.model_selection import train_test_split\n",
    "from sklearn.model_selection import GridSearchCV\n",
    "from sklearn.pipeline import Pipeline\n",
    "from sklearn.linear_model import LogisticRegression\n",
    "from sklearn.svm import SVC\n",
    "from sklearn.ensemble import GradientBoostingClassifier\n",
    "from sklearn.metrics import accuracy_score, f1_score, classification_report"
   ]
  },
  {
   "cell_type": "code",
   "execution_count": 34,
   "metadata": {},
   "outputs": [],
   "source": [
    "# Create dummy variables from categorical columns and extract features X and target y\n",
    "X = pd.get_dummies(users.drop('retained',axis=1), drop_first=True)\n",
    "y = users.retained\n",
    "\n",
    "# Train-test-split\n",
    "X_train, X_test, y_train, y_test = train_test_split(X, y, stratify=y, random_state=42)"
   ]
  },
  {
   "cell_type": "code",
   "execution_count": 35,
   "metadata": {},
   "outputs": [],
   "source": [
    "# Create evaluation table\n",
    "index = ['LogisticRegression','SVC','GradientBoostingClassifier']\n",
    "\n",
    "eval_table = pd.DataFrame(\n",
    "    index = index, \n",
    "    columns= ['accuracy_train','f1_score_train','accuracy_test','f1_score_test'])\n",
    "\n",
    "# Define function for plotting results\n",
    "def compute_result(algorithm, pred_train, pred_test):\n",
    "    \"\"\"compute and log the performance for both training and test sets\"\"\"\n",
    "    \n",
    "    # compute the performance  \n",
    "    accuracy_train = accuracy_score(y_train, pred_train)\n",
    "    accuracy_test = accuracy_score(y_test, pred_test)\n",
    "    f1_train = f1_score(y_train, pred_train)\n",
    "    f1_test = f1_score(y_test, pred_test)\n",
    "    \n",
    "    # log the performance\n",
    "    eval_table.loc[algorithm,:] = accuracy_train, f1_train, accuracy_test, f1_test\n",
    "    \n",
    "    # compute confusion matrix and print\n",
    "    print('Classification results from the test set:\\n', classification_report(y_test, pred_test))"
   ]
  },
  {
   "cell_type": "code",
   "execution_count": 36,
   "metadata": {},
   "outputs": [
    {
     "name": "stdout",
     "output_type": "stream",
     "text": [
      "Classification results from the test set:\n",
      "               precision    recall  f1-score   support\n",
      "\n",
      "       False       0.74      0.85      0.79      7799\n",
      "        True       0.67      0.50      0.57      4701\n",
      "\n",
      "    accuracy                           0.72     12500\n",
      "   macro avg       0.70      0.67      0.68     12500\n",
      "weighted avg       0.71      0.72      0.71     12500\n",
      "\n"
     ]
    }
   ],
   "source": [
    "# Fit default logistic regression model\n",
    "logreg = Pipeline([('scaler', StandardScaler()),('logreg', LogisticRegression())])\n",
    "logreg.fit(X_train, y_train)\n",
    "pred_train = logreg.predict(X_train)\n",
    "pred_test = logreg.predict(X_test)\n",
    "\n",
    "# Record model performance\n",
    "compute_result('LogisticRegression', pred_train, pred_test)"
   ]
  },
  {
   "cell_type": "code",
   "execution_count": 37,
   "metadata": {},
   "outputs": [
    {
     "name": "stdout",
     "output_type": "stream",
     "text": [
      "Classification results from the test set:\n",
      "               precision    recall  f1-score   support\n",
      "\n",
      "       False       0.78      0.86      0.82      7799\n",
      "        True       0.72      0.59      0.65      4701\n",
      "\n",
      "    accuracy                           0.76     12500\n",
      "   macro avg       0.75      0.72      0.73     12500\n",
      "weighted avg       0.76      0.76      0.75     12500\n",
      "\n"
     ]
    }
   ],
   "source": [
    "# Fit default support vector machine model\n",
    "svc = Pipeline([('scaler', StandardScaler()),('svc', SVC())])\n",
    "svc.fit(X_train, y_train)\n",
    "pred_train = svc.predict(X_train)\n",
    "pred_test = svc.predict(X_test)\n",
    "\n",
    "# Record model performance\n",
    "compute_result('SVC', pred_train, pred_test)"
   ]
  },
  {
   "cell_type": "code",
   "execution_count": 38,
   "metadata": {},
   "outputs": [
    {
     "name": "stdout",
     "output_type": "stream",
     "text": [
      "Classification results from the test set:\n",
      "               precision    recall  f1-score   support\n",
      "\n",
      "       False       0.81      0.86      0.84      7799\n",
      "        True       0.74      0.67      0.70      4701\n",
      "\n",
      "    accuracy                           0.79     12500\n",
      "   macro avg       0.78      0.77      0.77     12500\n",
      "weighted avg       0.79      0.79      0.79     12500\n",
      "\n"
     ]
    }
   ],
   "source": [
    "# Fit default gradient bossting model\n",
    "\n",
    "gbc = Pipeline([('scaler', StandardScaler()),('gbc', GradientBoostingClassifier())]) \n",
    "gbc.fit(X_train, y_train)\n",
    "pred_train = gbc.predict(X_train)\n",
    "pred_test = gbc.predict(X_test)\n",
    "\n",
    "# Record model performance\n",
    "compute_result('GradientBoostingClassifier', pred_train, pred_test)"
   ]
  },
  {
   "cell_type": "code",
   "execution_count": 39,
   "metadata": {},
   "outputs": [
    {
     "data": {
      "text/html": [
       "<div>\n",
       "<style scoped>\n",
       "    .dataframe tbody tr th:only-of-type {\n",
       "        vertical-align: middle;\n",
       "    }\n",
       "\n",
       "    .dataframe tbody tr th {\n",
       "        vertical-align: top;\n",
       "    }\n",
       "\n",
       "    .dataframe thead th {\n",
       "        text-align: right;\n",
       "    }\n",
       "</style>\n",
       "<table border=\"1\" class=\"dataframe\">\n",
       "  <thead>\n",
       "    <tr style=\"text-align: right;\">\n",
       "      <th></th>\n",
       "      <th>accuracy_train</th>\n",
       "      <th>f1_score_train</th>\n",
       "      <th>accuracy_test</th>\n",
       "      <th>f1_score_test</th>\n",
       "    </tr>\n",
       "  </thead>\n",
       "  <tbody>\n",
       "    <tr>\n",
       "      <td>LogisticRegression</td>\n",
       "      <td>0.72232</td>\n",
       "      <td>0.576828</td>\n",
       "      <td>0.71928</td>\n",
       "      <td>0.570659</td>\n",
       "    </tr>\n",
       "    <tr>\n",
       "      <td>SVC</td>\n",
       "      <td>0.780507</td>\n",
       "      <td>0.677885</td>\n",
       "      <td>0.75896</td>\n",
       "      <td>0.647066</td>\n",
       "    </tr>\n",
       "    <tr>\n",
       "      <td>GradientBoostingClassifier</td>\n",
       "      <td>0.788507</td>\n",
       "      <td>0.702992</td>\n",
       "      <td>0.78888</td>\n",
       "      <td>0.704843</td>\n",
       "    </tr>\n",
       "  </tbody>\n",
       "</table>\n",
       "</div>"
      ],
      "text/plain": [
       "                           accuracy_train f1_score_train accuracy_test  \\\n",
       "LogisticRegression                0.72232       0.576828       0.71928   \n",
       "SVC                              0.780507       0.677885       0.75896   \n",
       "GradientBoostingClassifier       0.788507       0.702992       0.78888   \n",
       "\n",
       "                           f1_score_test  \n",
       "LogisticRegression              0.570659  \n",
       "SVC                             0.647066  \n",
       "GradientBoostingClassifier      0.704843  "
      ]
     },
     "execution_count": 39,
     "metadata": {},
     "output_type": "execute_result"
    }
   ],
   "source": [
    "# Show results of each model's performance\n",
    "eval_table"
   ]
  },
  {
   "cell_type": "markdown",
   "metadata": {},
   "source": [
    "These results are all terrible, so we will add a fourth classification algorithm.\n",
    "- Random Forest (ensemble)"
   ]
  },
  {
   "cell_type": "code",
   "execution_count": 40,
   "metadata": {},
   "outputs": [
    {
     "name": "stdout",
     "output_type": "stream",
     "text": [
      "Classification results from the test set:\n",
      "               precision    recall  f1-score   support\n",
      "\n",
      "       False       0.77      0.86      0.81      7799\n",
      "        True       0.71      0.58      0.64      4701\n",
      "\n",
      "    accuracy                           0.76     12500\n",
      "   macro avg       0.74      0.72      0.73     12500\n",
      "weighted avg       0.75      0.76      0.75     12500\n",
      "\n"
     ]
    }
   ],
   "source": [
    "from sklearn.ensemble import RandomForestClassifier\n",
    "# Fit default random forest model\n",
    "\n",
    "# Set class_weight to 'balanced' to adjust for the imbalanced classes\n",
    "rfc = Pipeline([('scaler', StandardScaler()),('rfc', RandomForestClassifier(class_weight='balanced'))]) \n",
    "rfc.fit(X_train, y_train)\n",
    "pred_train = rfc.predict(X_train)\n",
    "pred_test = rfc.predict(X_test)\n",
    "\n",
    "# Record model performance\n",
    "compute_result('RandomForestClassifier', pred_train, pred_test)"
   ]
  },
  {
   "cell_type": "code",
   "execution_count": 41,
   "metadata": {},
   "outputs": [
    {
     "data": {
      "text/html": [
       "<div>\n",
       "<style scoped>\n",
       "    .dataframe tbody tr th:only-of-type {\n",
       "        vertical-align: middle;\n",
       "    }\n",
       "\n",
       "    .dataframe tbody tr th {\n",
       "        vertical-align: top;\n",
       "    }\n",
       "\n",
       "    .dataframe thead th {\n",
       "        text-align: right;\n",
       "    }\n",
       "</style>\n",
       "<table border=\"1\" class=\"dataframe\">\n",
       "  <thead>\n",
       "    <tr style=\"text-align: right;\">\n",
       "      <th></th>\n",
       "      <th>accuracy_train</th>\n",
       "      <th>f1_score_train</th>\n",
       "      <th>accuracy_test</th>\n",
       "      <th>f1_score_test</th>\n",
       "    </tr>\n",
       "  </thead>\n",
       "  <tbody>\n",
       "    <tr>\n",
       "      <td>LogisticRegression</td>\n",
       "      <td>0.72232</td>\n",
       "      <td>0.576828</td>\n",
       "      <td>0.71928</td>\n",
       "      <td>0.570659</td>\n",
       "    </tr>\n",
       "    <tr>\n",
       "      <td>SVC</td>\n",
       "      <td>0.780507</td>\n",
       "      <td>0.677885</td>\n",
       "      <td>0.75896</td>\n",
       "      <td>0.647066</td>\n",
       "    </tr>\n",
       "    <tr>\n",
       "      <td>GradientBoostingClassifier</td>\n",
       "      <td>0.788507</td>\n",
       "      <td>0.702992</td>\n",
       "      <td>0.78888</td>\n",
       "      <td>0.704843</td>\n",
       "    </tr>\n",
       "    <tr>\n",
       "      <td>RandomForestClassifier</td>\n",
       "      <td>0.982107</td>\n",
       "      <td>0.975793</td>\n",
       "      <td>0.75592</td>\n",
       "      <td>0.6432</td>\n",
       "    </tr>\n",
       "  </tbody>\n",
       "</table>\n",
       "</div>"
      ],
      "text/plain": [
       "                           accuracy_train f1_score_train accuracy_test  \\\n",
       "LogisticRegression                0.72232       0.576828       0.71928   \n",
       "SVC                              0.780507       0.677885       0.75896   \n",
       "GradientBoostingClassifier       0.788507       0.702992       0.78888   \n",
       "RandomForestClassifier           0.982107       0.975793       0.75592   \n",
       "\n",
       "                           f1_score_test  \n",
       "LogisticRegression              0.570659  \n",
       "SVC                             0.647066  \n",
       "GradientBoostingClassifier      0.704843  \n",
       "RandomForestClassifier            0.6432  "
      ]
     },
     "execution_count": 41,
     "metadata": {},
     "output_type": "execute_result"
    }
   ],
   "source": [
    "eval_table"
   ]
  },
  {
   "cell_type": "markdown",
   "metadata": {},
   "source": [
    "### Optimizing Gradient Boosting through Hypertuning\n",
    "Gradient Boosting has the best f1 score and accuracy.  We will hypertune this model to see what gives us the best performance."
   ]
  },
  {
   "cell_type": "code",
   "execution_count": 42,
   "metadata": {
    "scrolled": false
   },
   "outputs": [
    {
     "name": "stdout",
     "output_type": "stream",
     "text": [
      "Best parameters: {'gbc__max_features': 'log2', 'gbc__n_estimators': 700}\n",
      "Corresponding accuracy score: 0.7912\n"
     ]
    }
   ],
   "source": [
    "# Use gridsearchcv to optimize the GradientBoostingClassifier\n",
    "\n",
    "parameters = {'gbc__n_estimators': np.arange(400,1000,100), 'gbc__max_features':[None,'sqrt','log2']}\n",
    "gbc_cv = GridSearchCV(gbc, parameters, scoring='accuracy', cv=5)\n",
    "gbc_cv.fit(X_train, y_train)\n",
    "\n",
    "print('Best parameters:', gbc_cv.best_params_)\n",
    "print('Corresponding accuracy score:', gbc_cv.best_score_)"
   ]
  },
  {
   "cell_type": "code",
   "execution_count": 43,
   "metadata": {},
   "outputs": [
    {
     "name": "stdout",
     "output_type": "stream",
     "text": [
      "Classification results from the test set:\n",
      "               precision    recall  f1-score   support\n",
      "\n",
      "       False       0.81      0.87      0.84      7799\n",
      "        True       0.75      0.67      0.71      4701\n",
      "\n",
      "    accuracy                           0.79     12500\n",
      "   macro avg       0.78      0.77      0.78     12500\n",
      "weighted avg       0.79      0.79      0.79     12500\n",
      "\n"
     ]
    }
   ],
   "source": [
    "# Hypertuned GradientBoostingClassifier\n",
    "gbc = Pipeline([('scaler', StandardScaler()),\n",
    "                ('gbc', GradientBoostingClassifier(n_estimators=600, \n",
    "                                                   max_features=None))])\n",
    "gbc.fit(X_train, y_train)\n",
    "pred_train = gbc.predict(X_train)\n",
    "pred_test = gbc.predict(X_test)\n",
    "\n",
    "compute_result('GradientBoostingClassifier', pred_train, pred_test)"
   ]
  },
  {
   "cell_type": "code",
   "execution_count": 44,
   "metadata": {},
   "outputs": [
    {
     "name": "stdout",
     "output_type": "stream",
     "text": [
      "                feature  importance\n",
      "7  avg_rating_by_driver    0.234359\n",
      "3             surge_pct    0.166871\n",
      "5           weekday_pct    0.159963\n"
     ]
    },
    {
     "data": {
      "text/html": [
       "<div>\n",
       "<style scoped>\n",
       "    .dataframe tbody tr th:only-of-type {\n",
       "        vertical-align: middle;\n",
       "    }\n",
       "\n",
       "    .dataframe tbody tr th {\n",
       "        vertical-align: top;\n",
       "    }\n",
       "\n",
       "    .dataframe thead th {\n",
       "        text-align: right;\n",
       "    }\n",
       "</style>\n",
       "<table border=\"1\" class=\"dataframe\">\n",
       "  <thead>\n",
       "    <tr style=\"text-align: right;\">\n",
       "      <th></th>\n",
       "      <th>accuracy_train</th>\n",
       "      <th>f1_score_train</th>\n",
       "      <th>accuracy_test</th>\n",
       "      <th>f1_score_test</th>\n",
       "    </tr>\n",
       "  </thead>\n",
       "  <tbody>\n",
       "    <tr>\n",
       "      <td>GradientBoostingClassifier</td>\n",
       "      <td>0.8076</td>\n",
       "      <td>0.729481</td>\n",
       "      <td>0.79416</td>\n",
       "      <td>0.710996</td>\n",
       "    </tr>\n",
       "  </tbody>\n",
       "</table>\n",
       "</div>"
      ],
      "text/plain": [
       "                           accuracy_train f1_score_train accuracy_test  \\\n",
       "GradientBoostingClassifier         0.8076       0.729481       0.79416   \n",
       "\n",
       "                           f1_score_test  \n",
       "GradientBoostingClassifier      0.710996  "
      ]
     },
     "execution_count": 44,
     "metadata": {},
     "output_type": "execute_result"
    }
   ],
   "source": [
    "# Feature importance ranking of hypertuned GradientBoostingClassifier \n",
    "feature_rank = pd.DataFrame({'feature': X_train.columns, 'importance': gbc.named_steps.gbc.feature_importances_})\n",
    "print(feature_rank.sort_values(by='importance',ascending=False)[:3])\n",
    "\n",
    "# Final result\n",
    "pd.DataFrame(eval_table.loc[['GradientBoostingClassifier']])"
   ]
  },
  {
   "cell_type": "markdown",
   "metadata": {},
   "source": [
    "The hypertuned GradientBoostingClassifier gives the best accuracy score and F1 score among all. The features that are most important in the classifiers prediction of retention are shown above (average rating by driver, percentage of weekday trips and percentage of surge multiplier trips). "
   ]
  },
  {
   "cell_type": "markdown",
   "metadata": {},
   "source": [
    "## Conclusion\n",
    "### Improving Long-Term Rider Retention"
   ]
  },
  {
   "cell_type": "markdown",
   "metadata": {},
   "source": [
    "- Check if Android apps have another competitor or if they are failing through bugs or user experience.\n",
    "\n",
    "- Discounts for Astaphor and Winterfell residents, contingent to using every xx amount of trips.\n",
    "\n",
    "- Marketing campaigns (promotions) for users who take intermediate trips, promoting weekday travel during surge pricing. Random selection to get rid of surge pricing every xx amount of trips."
   ]
  }
 ],
 "metadata": {
  "kernelspec": {
   "display_name": "Python 3",
   "language": "python",
   "name": "python3"
  },
  "language_info": {
   "codemirror_mode": {
    "name": "ipython",
    "version": 3
   },
   "file_extension": ".py",
   "mimetype": "text/x-python",
   "name": "python",
   "nbconvert_exporter": "python",
   "pygments_lexer": "ipython3",
   "version": "3.7.4"
  }
 },
 "nbformat": 4,
 "nbformat_minor": 2
}
