{
 "cells": [
  {
   "cell_type": "markdown",
   "metadata": {},
   "source": [
    "# Examining Racial Discrimination in the US Job Market\n",
    "\n",
    "### Introduction\n",
    "Racial discrimination continues to be pervasive in cultures throughout the world. Researchers examined the level of racial discrimination in the United States labor market by randomly assigning identical résumés to black-sounding or white-sounding names and observing the impact on requests for interviews from employers.\n",
    "\n",
    "### Data\n",
    "In the dataset provided, each row represents a resume. The 'race' column has two values, 'b' and 'w', indicating black-sounding and white-sounding. The column 'call' has two values, 1 and 0, indicating whether the resume received a call from employers or not.\n",
    "\n",
    "Note that the 'b' and 'w' values in race are assigned randomly to the resumes when presented to the employer."
   ]
  },
  {
   "cell_type": "markdown",
   "metadata": {},
   "source": [
    "### Exercise\n",
    "\n",
    "We will perform a statistical analysis to establish whether race has a significant impact on the rate of callbacks for resumes."
   ]
  },
  {
   "cell_type": "markdown",
   "metadata": {},
   "source": [
    "### Initial Data Exploration"
   ]
  },
  {
   "cell_type": "code",
   "execution_count": 19,
   "metadata": {},
   "outputs": [],
   "source": [
    "import pandas as pd\n",
    "import numpy as np\n",
    "from scipy import stats"
   ]
  },
  {
   "cell_type": "code",
   "execution_count": 20,
   "metadata": {},
   "outputs": [],
   "source": [
    "data = pd.io.stata.read_stata('data/us_job_market_discrimination.dta')"
   ]
  },
  {
   "cell_type": "code",
   "execution_count": 21,
   "metadata": {},
   "outputs": [
    {
     "data": {
      "text/html": [
       "<div>\n",
       "<style scoped>\n",
       "    .dataframe tbody tr th:only-of-type {\n",
       "        vertical-align: middle;\n",
       "    }\n",
       "\n",
       "    .dataframe tbody tr th {\n",
       "        vertical-align: top;\n",
       "    }\n",
       "\n",
       "    .dataframe thead th {\n",
       "        text-align: right;\n",
       "    }\n",
       "</style>\n",
       "<table border=\"1\" class=\"dataframe\">\n",
       "  <thead>\n",
       "    <tr style=\"text-align: right;\">\n",
       "      <th></th>\n",
       "      <th>id</th>\n",
       "      <th>ad</th>\n",
       "      <th>education</th>\n",
       "      <th>ofjobs</th>\n",
       "      <th>yearsexp</th>\n",
       "      <th>honors</th>\n",
       "      <th>volunteer</th>\n",
       "      <th>military</th>\n",
       "      <th>empholes</th>\n",
       "      <th>occupspecific</th>\n",
       "      <th>...</th>\n",
       "      <th>compreq</th>\n",
       "      <th>orgreq</th>\n",
       "      <th>manuf</th>\n",
       "      <th>transcom</th>\n",
       "      <th>bankreal</th>\n",
       "      <th>trade</th>\n",
       "      <th>busservice</th>\n",
       "      <th>othservice</th>\n",
       "      <th>missind</th>\n",
       "      <th>ownership</th>\n",
       "    </tr>\n",
       "  </thead>\n",
       "  <tbody>\n",
       "    <tr>\n",
       "      <th>0</th>\n",
       "      <td>b</td>\n",
       "      <td>1</td>\n",
       "      <td>4</td>\n",
       "      <td>2</td>\n",
       "      <td>6</td>\n",
       "      <td>0</td>\n",
       "      <td>0</td>\n",
       "      <td>0</td>\n",
       "      <td>1</td>\n",
       "      <td>17</td>\n",
       "      <td>...</td>\n",
       "      <td>1.0</td>\n",
       "      <td>0.0</td>\n",
       "      <td>1.0</td>\n",
       "      <td>0.0</td>\n",
       "      <td>0.0</td>\n",
       "      <td>0.0</td>\n",
       "      <td>0.0</td>\n",
       "      <td>0.0</td>\n",
       "      <td>0.0</td>\n",
       "      <td></td>\n",
       "    </tr>\n",
       "    <tr>\n",
       "      <th>1</th>\n",
       "      <td>b</td>\n",
       "      <td>1</td>\n",
       "      <td>3</td>\n",
       "      <td>3</td>\n",
       "      <td>6</td>\n",
       "      <td>0</td>\n",
       "      <td>1</td>\n",
       "      <td>1</td>\n",
       "      <td>0</td>\n",
       "      <td>316</td>\n",
       "      <td>...</td>\n",
       "      <td>1.0</td>\n",
       "      <td>0.0</td>\n",
       "      <td>1.0</td>\n",
       "      <td>0.0</td>\n",
       "      <td>0.0</td>\n",
       "      <td>0.0</td>\n",
       "      <td>0.0</td>\n",
       "      <td>0.0</td>\n",
       "      <td>0.0</td>\n",
       "      <td></td>\n",
       "    </tr>\n",
       "    <tr>\n",
       "      <th>2</th>\n",
       "      <td>b</td>\n",
       "      <td>1</td>\n",
       "      <td>4</td>\n",
       "      <td>1</td>\n",
       "      <td>6</td>\n",
       "      <td>0</td>\n",
       "      <td>0</td>\n",
       "      <td>0</td>\n",
       "      <td>0</td>\n",
       "      <td>19</td>\n",
       "      <td>...</td>\n",
       "      <td>1.0</td>\n",
       "      <td>0.0</td>\n",
       "      <td>1.0</td>\n",
       "      <td>0.0</td>\n",
       "      <td>0.0</td>\n",
       "      <td>0.0</td>\n",
       "      <td>0.0</td>\n",
       "      <td>0.0</td>\n",
       "      <td>0.0</td>\n",
       "      <td></td>\n",
       "    </tr>\n",
       "    <tr>\n",
       "      <th>3</th>\n",
       "      <td>b</td>\n",
       "      <td>1</td>\n",
       "      <td>3</td>\n",
       "      <td>4</td>\n",
       "      <td>6</td>\n",
       "      <td>0</td>\n",
       "      <td>1</td>\n",
       "      <td>0</td>\n",
       "      <td>1</td>\n",
       "      <td>313</td>\n",
       "      <td>...</td>\n",
       "      <td>1.0</td>\n",
       "      <td>0.0</td>\n",
       "      <td>1.0</td>\n",
       "      <td>0.0</td>\n",
       "      <td>0.0</td>\n",
       "      <td>0.0</td>\n",
       "      <td>0.0</td>\n",
       "      <td>0.0</td>\n",
       "      <td>0.0</td>\n",
       "      <td></td>\n",
       "    </tr>\n",
       "    <tr>\n",
       "      <th>4</th>\n",
       "      <td>b</td>\n",
       "      <td>1</td>\n",
       "      <td>3</td>\n",
       "      <td>3</td>\n",
       "      <td>22</td>\n",
       "      <td>0</td>\n",
       "      <td>0</td>\n",
       "      <td>0</td>\n",
       "      <td>0</td>\n",
       "      <td>313</td>\n",
       "      <td>...</td>\n",
       "      <td>1.0</td>\n",
       "      <td>1.0</td>\n",
       "      <td>0.0</td>\n",
       "      <td>0.0</td>\n",
       "      <td>0.0</td>\n",
       "      <td>0.0</td>\n",
       "      <td>0.0</td>\n",
       "      <td>1.0</td>\n",
       "      <td>0.0</td>\n",
       "      <td>Nonprofit</td>\n",
       "    </tr>\n",
       "  </tbody>\n",
       "</table>\n",
       "<p>5 rows × 65 columns</p>\n",
       "</div>"
      ],
      "text/plain": [
       "  id ad  education  ofjobs  yearsexp  honors  volunteer  military  empholes  \\\n",
       "0  b  1          4       2         6       0          0         0         1   \n",
       "1  b  1          3       3         6       0          1         1         0   \n",
       "2  b  1          4       1         6       0          0         0         0   \n",
       "3  b  1          3       4         6       0          1         0         1   \n",
       "4  b  1          3       3        22       0          0         0         0   \n",
       "\n",
       "   occupspecific    ...      compreq  orgreq  manuf  transcom  bankreal trade  \\\n",
       "0             17    ...          1.0     0.0    1.0       0.0       0.0   0.0   \n",
       "1            316    ...          1.0     0.0    1.0       0.0       0.0   0.0   \n",
       "2             19    ...          1.0     0.0    1.0       0.0       0.0   0.0   \n",
       "3            313    ...          1.0     0.0    1.0       0.0       0.0   0.0   \n",
       "4            313    ...          1.0     1.0    0.0       0.0       0.0   0.0   \n",
       "\n",
       "  busservice othservice  missind  ownership  \n",
       "0        0.0        0.0      0.0             \n",
       "1        0.0        0.0      0.0             \n",
       "2        0.0        0.0      0.0             \n",
       "3        0.0        0.0      0.0             \n",
       "4        0.0        1.0      0.0  Nonprofit  \n",
       "\n",
       "[5 rows x 65 columns]"
      ]
     },
     "execution_count": 21,
     "metadata": {},
     "output_type": "execute_result"
    }
   ],
   "source": [
    "data.head()"
   ]
  },
  {
   "cell_type": "code",
   "execution_count": 29,
   "metadata": {},
   "outputs": [
    {
     "name": "stdout",
     "output_type": "stream",
     "text": [
      "number of resumes with white-sounding names: 2435\n",
      "number of callbacks for white-sounding names: 235.0\n",
      "\n",
      "\n",
      "number of resumes with black-sounding names: 2435\n",
      "number of callbacks for black-sounding names: 157.0\n"
     ]
    }
   ],
   "source": [
    "# Extract data associated with white-sounding names\n",
    "w = data[data.race=='w']\n",
    "\n",
    "# Extract data associated with black-sounding names\n",
    "b = data[data.race=='b']\n",
    "\n",
    "\n",
    "\n",
    "# Number of resumes with white-sounding names\n",
    "wr = len(w)\n",
    "\n",
    "# Number of resumes with black-sounding names\n",
    "br = len(b)\n",
    "\n",
    "\n",
    "\n",
    "# Number of callbacks for white-sounding names\n",
    "wcb = sum(w.call)\n",
    "\n",
    "# Number of callbacks for black-sounding names\n",
    "bcb = sum(b.call)\n",
    "\n",
    "\n",
    "\n",
    "print('number of resumes with white-sounding names:', wr)\n",
    "print('number of callbacks for white-sounding names:', wcb)\n",
    "print('\\n')\n",
    "print('number of resumes with black-sounding names:', br)\n",
    "print('number of callbacks for black-sounding names:', bcb)"
   ]
  },
  {
   "cell_type": "code",
   "execution_count": 30,
   "metadata": {},
   "outputs": [
    {
     "name": "stdout",
     "output_type": "stream",
     "text": [
      "True\n",
      "True\n",
      "True\n",
      "True\n"
     ]
    }
   ],
   "source": [
    "# Conditions of np >= 10 & n(1-p) >= 10\n",
    "print(br*(bcb/br) >= 10)\n",
    "print(br*(1-bcb/br) >= 10)\n",
    "print(wr*(wcb/wr) >= 10)\n",
    "print(wr*(1-wcb/wr) >= 10)"
   ]
  },
  {
   "cell_type": "markdown",
   "metadata": {
    "collapsed": true
   },
   "source": [
    "### 1. What test is appropriate for this problem? Does Central Limit Theorem (CLT) apply?\n",
    "\n",
    "The Central Limit Theorem (CLT) is a statistical theory states that given a sufficiently large sample size from a population with a finite level of variance, the mean of all samples from the same population will be approximately equal to the mean of the population.\n",
    "\n",
    "\n",
    "In order to determine whether the rate of callbacks depends on race, we need to compare the rate of callbacks on résumés with white sounding names vs. rate of callbacks on résumés with black sounding names.  Because there are two variables to examine, the approach we must take will be a **two sample test**.\n",
    "\n",
    "\n",
    "In order to apply to CLT, the samples must be random, normal and independent:\n",
    "\n",
    "\n",
    "1. Random:\n",
    "\n",
    "As stated above in the *introduction*, the résumés are **randomly** assigned to a white-sounding or black-sounding name for the experiment, thus making it a random, unbiased sample.\n",
    "\n",
    "\n",
    "2. Normal:\n",
    "\n",
    "To make sure the sample distribution is normal, the sample size needs to be large enough so that:\n",
    "- np >= 10\n",
    "- n(1-p) >= 10\n",
    "    \n",
    "As shown above, both the samples of white-sounding and black-sounding names meet the normal condition.\n",
    "\n",
    "\n",
    "3. Indepedent:\n",
    "\n",
    "The researchers in this study used just under 5,000 resumes gathered in response to over 1,300 newspaper ads looking for sales, administrative and clerical jobs in the Chicago and Boston areas.  It can be safe to assume that the combined cities have over 50,000 job seekers and by the 10% rule (our sample is smaller than 10% of our population) the sample can be considered independent.\n",
    "\n",
    "\n",
    "The three conditions of CLT are met and so CLT applies in this case."
   ]
  },
  {
   "cell_type": "markdown",
   "metadata": {
    "collapsed": true
   },
   "source": [
    "### 2. What are the null and alternate hypotheses?\n",
    "\n",
    "Null hypothesis: \n",
    "- *Race doesn't significantly effect the rate of callbacks on resumes.*\n",
    "\n",
    "Alternative hypothesis: \n",
    "- *Race does significantly effect the rate of callbacks on resumes.*"
   ]
  },
  {
   "cell_type": "markdown",
   "metadata": {
    "collapsed": true
   },
   "source": [
    "### 3. Compute margin of error, confidence interval, and p-value. Try using both the bootstrapping and the frequentist statistical approaches.\n",
    "\n",
    "#### Bootstrap Approach\n",
    "\n",
    "Method: two sample test using permutation\n",
    "\n",
    "Significance level: $\\alpha$=0.05"
   ]
  },
  {
   "cell_type": "code",
   "execution_count": 31,
   "metadata": {},
   "outputs": [
    {
     "name": "stdout",
     "output_type": "stream",
     "text": [
      "Margin of error is 0.015359902171738776\n",
      "95% confidence interval is [-0.01560575  0.01560575]\n",
      "p-value is 0.0\n"
     ]
    }
   ],
   "source": [
    "# Calculate the proportion of callbacks for white-sounding names\n",
    "wp = sum(w.call)/len(w)\n",
    "\n",
    "# Calculate proportion of callbacks for black-sounding names\n",
    "bp = sum(b.call)/len(b)\n",
    "\n",
    "# Calculate the difference in proportions\n",
    "difference = bp - wp\n",
    "\n",
    "#-------------------------------------------------------\n",
    "\n",
    "# Concatenate the 'call' columns from both races while assuming the null hypothesis is true\n",
    "cb = np.concatenate([w.call, b.call])\n",
    "\n",
    "# Initialize array of replicates\n",
    "bs_reps = np.empty(10000)\n",
    "\n",
    "#-------------------------------------------------------\n",
    "\n",
    "# Generate replicates\n",
    "np.random.seed(10)\n",
    "for i in range(10000):\n",
    "    # Generate sample replicates\n",
    "    bs = np.random.choice(cb, size=len(cb))\n",
    "    \n",
    "    # Split permuted array into two samples\n",
    "    bs_b = bs[:len(b)]\n",
    "    bs_w = bs[len(b):]\n",
    "    \n",
    "    # Calculate the difference in bootstrap sample proportions\n",
    "    bs_reps[i] = sum(bs_b)/len(bs_b) - sum(bs_w)/len(bs_w)\n",
    "\n",
    "#-------------------------------------------------------    \n",
    "    \n",
    "# Calculate margin of error for 95% confidence level, z = 1.96\n",
    "error = 1.96*np.std(bs_reps)\n",
    "print('Margin of error is {}'.format(error))\n",
    "\n",
    "# Calculate 95% confidence interval\n",
    "conf_int = np.percentile(bs_reps, [2.5, 97.5])\n",
    "print('95% confidence interval is {}'.format(conf_int))\n",
    "\n",
    "# Calculate p-value for number of replicates that are more extreme than what is observed in the sample\n",
    "p = np.sum(bs_reps <= difference)/len(bs_reps)\n",
    "\n",
    "# Convert to two-tailed test\n",
    "p = 2*p\n",
    "print('p-value is {}'.format(p))"
   ]
  },
  {
   "cell_type": "markdown",
   "metadata": {},
   "source": [
    "The p-value < $\\alpha$ and is a number approaching 0, so the null hypothesis is rejected and race does significantly effect the rate of callbacks on resumes.\n",
    "\n",
    "\n",
    "#### Frequentist approach\n",
    "\n",
    "Method: two sample test using permutation\n",
    "\n",
    "Significance level: $\\alpha$=0.05"
   ]
  },
  {
   "cell_type": "code",
   "execution_count": 35,
   "metadata": {},
   "outputs": [
    {
     "name": "stdout",
     "output_type": "stream",
     "text": [
      "Margin of error is 0.015255406349886438\n",
      "95% confidence interval is [-0.01525541  0.01525541]\n",
      "The z-score is -4.11555043573\n"
     ]
    }
   ],
   "source": [
    "# Calculate the proportion of callbacks for white-sounding names\n",
    "wp = sum(w.call)/len(w)\n",
    "\n",
    "# Calculate proportion of callbacks for black-sounding names\n",
    "bp = sum(b.call)/len(b)\n",
    "\n",
    "# Calculate the difference in proportions\n",
    "difference = bp - wp\n",
    "\n",
    "# Null Hypothesized difference in proportions is zero\n",
    "h_difference = 0\n",
    "\n",
    "#-------------------------------------------------------\n",
    "\n",
    "# Calculate variance of sampling distribution for white-sounding names\n",
    "w_var = wp*(1-wp)/len(w)\n",
    "\n",
    "# Calculate variance of sampling distribution for black-sounding names\n",
    "b_var = bp*(1-bp)/len(b)\n",
    "\n",
    "# Calculate standard deviation of the difference in sample proportions\n",
    "std_diff = np.sqrt(b_var + w_var)\n",
    "\n",
    "#-------------------------------------------------------\n",
    "\n",
    "# Calculate margin of error for 95% confidence level, z = 1.96\n",
    "error = 1.96*std_diff\n",
    "print('Margin of error is {}'.format(error))\n",
    "\n",
    "# Calculate 95% confidence interval\n",
    "conf_int = h_difference + np.array([-1,1])*error\n",
    "print('95% confidence interval is {}'.format(conf_int))\n",
    "\n",
    "# Calculate z-statistic & p-value from a z-table\n",
    "z = (difference - h_difference)/std_diff\n",
    "print('The z-score is {}'.format(z))"
   ]
  },
  {
   "cell_type": "markdown",
   "metadata": {},
   "source": [
    "According to the z-table, the p-value for a two-tailed test is:\n",
    "\n",
    "p(z <= -4.116) < 0.0001"
   ]
  },
  {
   "cell_type": "code",
   "execution_count": 36,
   "metadata": {},
   "outputs": [
    {
     "name": "stdout",
     "output_type": "stream",
     "text": [
      "The p-value is 3.862565207522622e-05\n"
     ]
    }
   ],
   "source": [
    "# Using scipy to compute the p-value\n",
    "p = stats.norm.cdf(difference, h_difference, std_diff)\n",
    "\n",
    "# Convert to two-tailed test\n",
    "p = 2*p\n",
    "print('The p-value is {}'.format(p))"
   ]
  },
  {
   "cell_type": "markdown",
   "metadata": {},
   "source": [
    "The p-value < $\\alpha$ and is a number approaching 0, so the null hypothesis is rejected and race does significantly effect the rate of callbacks on resumes."
   ]
  },
  {
   "cell_type": "markdown",
   "metadata": {},
   "source": [
    "### 4. Write a story describing the statistical significance in the context of the original problem.\n",
    "\n",
    "Racial discrimination continues to be pervasive in cultures throughout the world. Researchers examined the level of racial discrimination in the United States labor market by randomly assigning identical résumés to black-sounding or white-sounding names and observing the impact on requests for interviews from employers.  \n",
    "\n",
    "The study shows that 9.65% of résumés with white-sounding names received callbacks, while only 6.45% of résumés with black-sounding names recieved callbacks.  The difference in callbacks was 3.2%, which is statistically significant with a z-score of -4.12 and p-value approaching 0.  The study concludes that race still has a significant impact on callback rates when all other candidate qualifications are equal."
   ]
  },
  {
   "cell_type": "markdown",
   "metadata": {
    "collapsed": true
   },
   "source": [
    "### 5. Does your analysis mean that race/name is the most important factor in callback success? Why or why not? If not, how would you amend your analysis?\n",
    "\n",
    "Although the analysis has shown that race/name has a significant effect on callback success rates, it does not show that it is the most important factor in callback success rates.  \n",
    "\n",
    "Other variables that need to be considered are education, experience, proficiency and skills, volunteer work, military experience and much more.  In order to determine if race/name is the most important factor, the correlation between callback rates and these other variables must also be evaluated and then ranked."
   ]
  },
  {
   "cell_type": "markdown",
   "metadata": {},
   "source": [
    "#### Resources\n",
    "+ Experiment information and data source: http://www.povertyactionlab.org/evaluation/discrimination-job-market-united-states\n",
    "+ Scipy statistical methods: http://docs.scipy.org/doc/scipy/reference/stats.html \n",
    "+ Markdown syntax: http://nestacms.com/docs/creating-content/markdown-cheat-sheet\n",
    "+ Formulas for the Bernoulli distribution: https://en.wikipedia.org/wiki/Bernoulli_distribution"
   ]
  }
 ],
 "metadata": {
  "kernelspec": {
   "display_name": "Python 3",
   "language": "python",
   "name": "python3"
  },
  "language_info": {
   "codemirror_mode": {
    "name": "ipython",
    "version": 3
   },
   "file_extension": ".py",
   "mimetype": "text/x-python",
   "name": "python",
   "nbconvert_exporter": "python",
   "pygments_lexer": "ipython3",
   "version": "3.7.1"
  }
 },
 "nbformat": 4,
 "nbformat_minor": 1
}
